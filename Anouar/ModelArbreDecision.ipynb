{
 "cells": [
  {
   "cell_type": "code",
   "execution_count": 15,
   "metadata": {},
   "outputs": [],
   "source": [
    "# import libraries\n",
    "import numpy as np\n",
    "import pandas as pd\n",
    "%matplotlib inline\n",
    "import matplotlib.pyplot as plt\n",
    "import seaborn as sns"
   ]
  },
  {
   "cell_type": "code",
   "execution_count": 16,
   "metadata": {},
   "outputs": [],
   "source": [
    "# import data\n",
    "data = pd.read_csv('data007.csv', sep=';')"
   ]
  },
  {
   "cell_type": "code",
   "execution_count": 17,
   "metadata": {},
   "outputs": [
    {
     "data": {
      "text/html": [
       "<div>\n",
       "<style scoped>\n",
       "    .dataframe tbody tr th:only-of-type {\n",
       "        vertical-align: middle;\n",
       "    }\n",
       "\n",
       "    .dataframe tbody tr th {\n",
       "        vertical-align: top;\n",
       "    }\n",
       "\n",
       "    .dataframe thead th {\n",
       "        text-align: right;\n",
       "    }\n",
       "</style>\n",
       "<table border=\"1\" class=\"dataframe\">\n",
       "  <thead>\n",
       "    <tr style=\"text-align: right;\">\n",
       "      <th></th>\n",
       "      <th>Unnamed: 0</th>\n",
       "      <th>Marque</th>\n",
       "      <th>Année</th>\n",
       "      <th>Code Postal</th>\n",
       "      <th>Carburant</th>\n",
       "      <th>Emission Co2</th>\n",
       "      <th>Transmission</th>\n",
       "      <th>nbPortes</th>\n",
       "      <th>nbPlace</th>\n",
       "      <th>Kilométrage</th>\n",
       "      <th>Prix</th>\n",
       "    </tr>\n",
       "  </thead>\n",
       "  <tbody>\n",
       "    <tr>\n",
       "      <th>0</th>\n",
       "      <td>6</td>\n",
       "      <td>BMW</td>\n",
       "      <td>2016</td>\n",
       "      <td>28</td>\n",
       "      <td>Diesel</td>\n",
       "      <td>110-130</td>\n",
       "      <td>Manuelle</td>\n",
       "      <td>5</td>\n",
       "      <td>5</td>\n",
       "      <td>126220</td>\n",
       "      <td>17480</td>\n",
       "    </tr>\n",
       "    <tr>\n",
       "      <th>1</th>\n",
       "      <td>17</td>\n",
       "      <td>BMW</td>\n",
       "      <td>2017</td>\n",
       "      <td>66</td>\n",
       "      <td>Diesel</td>\n",
       "      <td>110-130</td>\n",
       "      <td>Manuelle</td>\n",
       "      <td>5</td>\n",
       "      <td>5</td>\n",
       "      <td>72914</td>\n",
       "      <td>23490</td>\n",
       "    </tr>\n",
       "    <tr>\n",
       "      <th>2</th>\n",
       "      <td>21</td>\n",
       "      <td>BMW</td>\n",
       "      <td>2018</td>\n",
       "      <td>78</td>\n",
       "      <td>Diesel</td>\n",
       "      <td>110-130</td>\n",
       "      <td>Manuelle</td>\n",
       "      <td>5</td>\n",
       "      <td>5</td>\n",
       "      <td>105749</td>\n",
       "      <td>16290</td>\n",
       "    </tr>\n",
       "    <tr>\n",
       "      <th>3</th>\n",
       "      <td>37</td>\n",
       "      <td>BMW</td>\n",
       "      <td>2017</td>\n",
       "      <td>31</td>\n",
       "      <td>Diesel</td>\n",
       "      <td>110-130</td>\n",
       "      <td>Manuelle</td>\n",
       "      <td>5</td>\n",
       "      <td>5</td>\n",
       "      <td>65718</td>\n",
       "      <td>25100</td>\n",
       "    </tr>\n",
       "    <tr>\n",
       "      <th>4</th>\n",
       "      <td>51</td>\n",
       "      <td>BMW</td>\n",
       "      <td>2020</td>\n",
       "      <td>67</td>\n",
       "      <td>Diesel</td>\n",
       "      <td>110-130</td>\n",
       "      <td>Manuelle</td>\n",
       "      <td>5</td>\n",
       "      <td>5</td>\n",
       "      <td>66219</td>\n",
       "      <td>31550</td>\n",
       "    </tr>\n",
       "  </tbody>\n",
       "</table>\n",
       "</div>"
      ],
      "text/plain": [
       "   Unnamed: 0 Marque  Année  Code Postal Carburant Emission Co2 Transmission  \\\n",
       "0           6    BMW   2016           28    Diesel      110-130     Manuelle   \n",
       "1          17    BMW   2017           66    Diesel      110-130     Manuelle   \n",
       "2          21    BMW   2018           78    Diesel      110-130     Manuelle   \n",
       "3          37    BMW   2017           31    Diesel      110-130     Manuelle   \n",
       "4          51    BMW   2020           67    Diesel      110-130     Manuelle   \n",
       "\n",
       "   nbPortes  nbPlace  Kilométrage   Prix  \n",
       "0         5        5       126220  17480  \n",
       "1         5        5        72914  23490  \n",
       "2         5        5       105749  16290  \n",
       "3         5        5        65718  25100  \n",
       "4         5        5        66219  31550  "
      ]
     },
     "execution_count": 17,
     "metadata": {},
     "output_type": "execute_result"
    }
   ],
   "source": [
    "data.head()"
   ]
  },
  {
   "cell_type": "code",
   "execution_count": 18,
   "metadata": {},
   "outputs": [],
   "source": [
    "# changer les données Carburant Diesel par 0 et  essence par 1 et Electrique par 2\n",
    "data.loc[data['Carburant'] == 'Diesel', 'Carburant'] = 0\n",
    "data.loc[data['Carburant'] == 'Essence', 'Carburant'] = 1\n",
    "data.loc[data['Carburant'] == 'Electric', 'Carburant'] = 2"
   ]
  },
  {
   "cell_type": "code",
   "execution_count": 19,
   "metadata": {},
   "outputs": [],
   "source": [
    "# changer les données de Transmission Manuelle par 0 et Automatique par 1\n",
    "data.loc[data['Transmission'] == 'Manuelle', 'Transmission'] = 0\n",
    "data.loc[data['Transmission'] == 'Automatique', 'Transmission'] = 1"
   ]
  },
  {
   "cell_type": "code",
   "execution_count": 20,
   "metadata": {},
   "outputs": [],
   "source": [
    "# changer les marques BMW, RENAULT, PEUGEOT, VOLKSWAGEN, AUDI par 0, 1, 2, 3, 4\n",
    "data.loc[data['Marque'] == 'BMW', 'Marque'] = 0\n",
    "data.loc[data['Marque'] == 'RENAULT', 'Marque'] = 1\n",
    "data.loc[data['Marque'] == 'PEUGEOT', 'Marque'] = 2\n",
    "data.loc[data['Marque'] == 'VOLKSWAGEN', 'Marque'] = 3\n",
    "data.loc[data['Marque'] == 'AUDI', 'Marque'] = 4"
   ]
  },
  {
   "cell_type": "code",
   "execution_count": 21,
   "metadata": {},
   "outputs": [],
   "source": [
    "# remplacer les valeurs dans la colonne \"Emission Co2\" 110-130 par 130 et 130-180 par 180\n",
    "data.loc[data[\"Emission Co2\"] == \"110-130\", \"Emission Co2\"] = 130\n",
    "data.loc[data[\"Emission Co2\"] == \"130-180\", \"Emission Co2\"] = 180"
   ]
  },
  {
   "cell_type": "code",
   "execution_count": 22,
   "metadata": {},
   "outputs": [],
   "source": [
    "# definir les features et le target\n",
    "X = data.drop(['Prix'], axis=1)\n",
    "y = data['Prix']"
   ]
  },
  {
   "cell_type": "code",
   "execution_count": 23,
   "metadata": {},
   "outputs": [],
   "source": [
    "# split data\n",
    "from sklearn.model_selection import train_test_split\n",
    "X_train, X_test, y_train, y_test = train_test_split(X, y, test_size=0.2, random_state=42)\n"
   ]
  },
  {
   "cell_type": "code",
   "execution_count": 24,
   "metadata": {},
   "outputs": [
    {
     "data": {
      "text/plain": [
       "DecisionTreeRegressor(random_state=42)"
      ]
     },
     "execution_count": 24,
     "metadata": {},
     "output_type": "execute_result"
    }
   ],
   "source": [
    "# import model arbre de decision\n",
    "from sklearn.tree import DecisionTreeRegressor\n",
    "regressor = DecisionTreeRegressor(random_state=42)\n",
    "regressor.fit(X_train, y_train)"
   ]
  },
  {
   "cell_type": "code",
   "execution_count": 25,
   "metadata": {},
   "outputs": [],
   "source": [
    "# predict\n",
    "y_pred = regressor.predict(X_test)\n"
   ]
  },
  {
   "cell_type": "code",
   "execution_count": 26,
   "metadata": {},
   "outputs": [
    {
     "data": {
      "text/plain": [
       "0.28638806004944506"
      ]
     },
     "execution_count": 26,
     "metadata": {},
     "output_type": "execute_result"
    }
   ],
   "source": [
    "# score\n",
    "regressor.score(X_test, y_test)"
   ]
  }
 ],
 "metadata": {
  "interpreter": {
   "hash": "b7d63767994f37dfa86e26829ddb127347db566fbcb91120cb86aef8ecfa4d78"
  },
  "kernelspec": {
   "display_name": "Python 3.9.5 64-bit",
   "language": "python",
   "name": "python3"
  },
  "language_info": {
   "codemirror_mode": {
    "name": "ipython",
    "version": 3
   },
   "file_extension": ".py",
   "mimetype": "text/x-python",
   "name": "python",
   "nbconvert_exporter": "python",
   "pygments_lexer": "ipython3",
   "version": "3.9.5"
  },
  "orig_nbformat": 4
 },
 "nbformat": 4,
 "nbformat_minor": 2
}
