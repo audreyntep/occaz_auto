{
 "cells": [
  {
   "cell_type": "code",
   "execution_count": 95,
   "metadata": {},
   "outputs": [],
   "source": [
    "# libraries\n",
    "import numpy as np\n",
    "import pandas as pd\n",
    "%matplotlib inline\n",
    "import matplotlib.pyplot as plt\n",
    "import seaborn as sns"
   ]
  },
  {
   "cell_type": "code",
   "execution_count": 96,
   "metadata": {},
   "outputs": [],
   "source": [
    "# load data\n",
    "data = pd.read_csv('data007.csv', sep=';', index_col=0)"
   ]
  },
  {
   "cell_type": "code",
   "execution_count": 97,
   "metadata": {},
   "outputs": [
    {
     "data": {
      "text/html": [
       "<div>\n",
       "<style scoped>\n",
       "    .dataframe tbody tr th:only-of-type {\n",
       "        vertical-align: middle;\n",
       "    }\n",
       "\n",
       "    .dataframe tbody tr th {\n",
       "        vertical-align: top;\n",
       "    }\n",
       "\n",
       "    .dataframe thead th {\n",
       "        text-align: right;\n",
       "    }\n",
       "</style>\n",
       "<table border=\"1\" class=\"dataframe\">\n",
       "  <thead>\n",
       "    <tr style=\"text-align: right;\">\n",
       "      <th></th>\n",
       "      <th>Marque</th>\n",
       "      <th>Année</th>\n",
       "      <th>Code Postal</th>\n",
       "      <th>Carburant</th>\n",
       "      <th>Emission Co2</th>\n",
       "      <th>Transmission</th>\n",
       "      <th>nbPortes</th>\n",
       "      <th>nbPlace</th>\n",
       "      <th>Kilométrage</th>\n",
       "      <th>Prix</th>\n",
       "    </tr>\n",
       "  </thead>\n",
       "  <tbody>\n",
       "    <tr>\n",
       "      <th>6</th>\n",
       "      <td>BMW</td>\n",
       "      <td>2016</td>\n",
       "      <td>28</td>\n",
       "      <td>Diesel</td>\n",
       "      <td>110-130</td>\n",
       "      <td>Manuelle</td>\n",
       "      <td>5</td>\n",
       "      <td>5</td>\n",
       "      <td>126220</td>\n",
       "      <td>17480</td>\n",
       "    </tr>\n",
       "    <tr>\n",
       "      <th>17</th>\n",
       "      <td>BMW</td>\n",
       "      <td>2017</td>\n",
       "      <td>66</td>\n",
       "      <td>Diesel</td>\n",
       "      <td>110-130</td>\n",
       "      <td>Manuelle</td>\n",
       "      <td>5</td>\n",
       "      <td>5</td>\n",
       "      <td>72914</td>\n",
       "      <td>23490</td>\n",
       "    </tr>\n",
       "    <tr>\n",
       "      <th>21</th>\n",
       "      <td>BMW</td>\n",
       "      <td>2018</td>\n",
       "      <td>78</td>\n",
       "      <td>Diesel</td>\n",
       "      <td>110-130</td>\n",
       "      <td>Manuelle</td>\n",
       "      <td>5</td>\n",
       "      <td>5</td>\n",
       "      <td>105749</td>\n",
       "      <td>16290</td>\n",
       "    </tr>\n",
       "    <tr>\n",
       "      <th>37</th>\n",
       "      <td>BMW</td>\n",
       "      <td>2017</td>\n",
       "      <td>31</td>\n",
       "      <td>Diesel</td>\n",
       "      <td>110-130</td>\n",
       "      <td>Manuelle</td>\n",
       "      <td>5</td>\n",
       "      <td>5</td>\n",
       "      <td>65718</td>\n",
       "      <td>25100</td>\n",
       "    </tr>\n",
       "    <tr>\n",
       "      <th>51</th>\n",
       "      <td>BMW</td>\n",
       "      <td>2020</td>\n",
       "      <td>67</td>\n",
       "      <td>Diesel</td>\n",
       "      <td>110-130</td>\n",
       "      <td>Manuelle</td>\n",
       "      <td>5</td>\n",
       "      <td>5</td>\n",
       "      <td>66219</td>\n",
       "      <td>31550</td>\n",
       "    </tr>\n",
       "  </tbody>\n",
       "</table>\n",
       "</div>"
      ],
      "text/plain": [
       "   Marque  Année  Code Postal Carburant Emission Co2 Transmission  nbPortes  \\\n",
       "6     BMW   2016           28    Diesel      110-130     Manuelle         5   \n",
       "17    BMW   2017           66    Diesel      110-130     Manuelle         5   \n",
       "21    BMW   2018           78    Diesel      110-130     Manuelle         5   \n",
       "37    BMW   2017           31    Diesel      110-130     Manuelle         5   \n",
       "51    BMW   2020           67    Diesel      110-130     Manuelle         5   \n",
       "\n",
       "    nbPlace  Kilométrage   Prix  \n",
       "6         5       126220  17480  \n",
       "17        5        72914  23490  \n",
       "21        5       105749  16290  \n",
       "37        5        65718  25100  \n",
       "51        5        66219  31550  "
      ]
     },
     "execution_count": 97,
     "metadata": {},
     "output_type": "execute_result"
    }
   ],
   "source": [
    "data.head()"
   ]
  },
  {
   "cell_type": "code",
   "execution_count": 98,
   "metadata": {},
   "outputs": [
    {
     "name": "stdout",
     "output_type": "stream",
     "text": [
      "<class 'pandas.core.frame.DataFrame'>\n",
      "Int64Index: 2500 entries, 6 to 17064\n",
      "Data columns (total 10 columns):\n",
      " #   Column        Non-Null Count  Dtype \n",
      "---  ------        --------------  ----- \n",
      " 0   Marque        2500 non-null   object\n",
      " 1   Année         2500 non-null   int64 \n",
      " 2   Code Postal   2500 non-null   int64 \n",
      " 3   Carburant     2500 non-null   object\n",
      " 4   Emission Co2  2500 non-null   object\n",
      " 5   Transmission  2500 non-null   object\n",
      " 6   nbPortes      2500 non-null   int64 \n",
      " 7   nbPlace       2500 non-null   int64 \n",
      " 8   Kilométrage   2500 non-null   int64 \n",
      " 9   Prix          2500 non-null   int64 \n",
      "dtypes: int64(6), object(4)\n",
      "memory usage: 214.8+ KB\n"
     ]
    }
   ],
   "source": [
    "data.info()"
   ]
  },
  {
   "cell_type": "code",
   "execution_count": 99,
   "metadata": {},
   "outputs": [
    {
     "data": {
      "text/html": [
       "<div>\n",
       "<style scoped>\n",
       "    .dataframe tbody tr th:only-of-type {\n",
       "        vertical-align: middle;\n",
       "    }\n",
       "\n",
       "    .dataframe tbody tr th {\n",
       "        vertical-align: top;\n",
       "    }\n",
       "\n",
       "    .dataframe thead th {\n",
       "        text-align: right;\n",
       "    }\n",
       "</style>\n",
       "<table border=\"1\" class=\"dataframe\">\n",
       "  <thead>\n",
       "    <tr style=\"text-align: right;\">\n",
       "      <th></th>\n",
       "      <th>Année</th>\n",
       "      <th>Code Postal</th>\n",
       "      <th>nbPortes</th>\n",
       "      <th>nbPlace</th>\n",
       "      <th>Kilométrage</th>\n",
       "      <th>Prix</th>\n",
       "    </tr>\n",
       "  </thead>\n",
       "  <tbody>\n",
       "    <tr>\n",
       "      <th>count</th>\n",
       "      <td>2500.000000</td>\n",
       "      <td>2500.000000</td>\n",
       "      <td>2500.0</td>\n",
       "      <td>2500.0</td>\n",
       "      <td>2500.000000</td>\n",
       "      <td>2500.000000</td>\n",
       "    </tr>\n",
       "    <tr>\n",
       "      <th>mean</th>\n",
       "      <td>2018.201600</td>\n",
       "      <td>51.388400</td>\n",
       "      <td>5.0</td>\n",
       "      <td>5.0</td>\n",
       "      <td>64099.225600</td>\n",
       "      <td>23153.721600</td>\n",
       "    </tr>\n",
       "    <tr>\n",
       "      <th>std</th>\n",
       "      <td>3.012206</td>\n",
       "      <td>25.956962</td>\n",
       "      <td>0.0</td>\n",
       "      <td>0.0</td>\n",
       "      <td>54468.834958</td>\n",
       "      <td>7494.560042</td>\n",
       "    </tr>\n",
       "    <tr>\n",
       "      <th>min</th>\n",
       "      <td>2004.000000</td>\n",
       "      <td>1.000000</td>\n",
       "      <td>5.0</td>\n",
       "      <td>5.0</td>\n",
       "      <td>1.000000</td>\n",
       "      <td>2320.000000</td>\n",
       "    </tr>\n",
       "    <tr>\n",
       "      <th>25%</th>\n",
       "      <td>2017.000000</td>\n",
       "      <td>31.000000</td>\n",
       "      <td>5.0</td>\n",
       "      <td>5.0</td>\n",
       "      <td>18629.750000</td>\n",
       "      <td>18672.500000</td>\n",
       "    </tr>\n",
       "    <tr>\n",
       "      <th>50%</th>\n",
       "      <td>2019.000000</td>\n",
       "      <td>53.000000</td>\n",
       "      <td>5.0</td>\n",
       "      <td>5.0</td>\n",
       "      <td>53460.000000</td>\n",
       "      <td>23500.000000</td>\n",
       "    </tr>\n",
       "    <tr>\n",
       "      <th>75%</th>\n",
       "      <td>2020.000000</td>\n",
       "      <td>75.000000</td>\n",
       "      <td>5.0</td>\n",
       "      <td>5.0</td>\n",
       "      <td>95537.250000</td>\n",
       "      <td>28105.000000</td>\n",
       "    </tr>\n",
       "    <tr>\n",
       "      <th>max</th>\n",
       "      <td>2023.000000</td>\n",
       "      <td>95.000000</td>\n",
       "      <td>5.0</td>\n",
       "      <td>5.0</td>\n",
       "      <td>341620.000000</td>\n",
       "      <td>51590.000000</td>\n",
       "    </tr>\n",
       "  </tbody>\n",
       "</table>\n",
       "</div>"
      ],
      "text/plain": [
       "             Année  Code Postal  nbPortes  nbPlace    Kilométrage  \\\n",
       "count  2500.000000  2500.000000    2500.0   2500.0    2500.000000   \n",
       "mean   2018.201600    51.388400       5.0      5.0   64099.225600   \n",
       "std       3.012206    25.956962       0.0      0.0   54468.834958   \n",
       "min    2004.000000     1.000000       5.0      5.0       1.000000   \n",
       "25%    2017.000000    31.000000       5.0      5.0   18629.750000   \n",
       "50%    2019.000000    53.000000       5.0      5.0   53460.000000   \n",
       "75%    2020.000000    75.000000       5.0      5.0   95537.250000   \n",
       "max    2023.000000    95.000000       5.0      5.0  341620.000000   \n",
       "\n",
       "               Prix  \n",
       "count   2500.000000  \n",
       "mean   23153.721600  \n",
       "std     7494.560042  \n",
       "min     2320.000000  \n",
       "25%    18672.500000  \n",
       "50%    23500.000000  \n",
       "75%    28105.000000  \n",
       "max    51590.000000  "
      ]
     },
     "execution_count": 99,
     "metadata": {},
     "output_type": "execute_result"
    }
   ],
   "source": [
    "# data.describe()\n",
    "data.describe()"
   ]
  },
  {
   "cell_type": "code",
   "execution_count": 100,
   "metadata": {},
   "outputs": [],
   "source": [
    "# changer le nom des colonnes \"Code Postal\" par \"CodePostal\" et \"Emission Co2\" par \"EmissionCO2\" \n",
    "data.rename(columns={'Code Postal': 'CodePostal', 'Emission Co2': 'EmissionCO2'}, inplace=True)"
   ]
  },
  {
   "cell_type": "code",
   "execution_count": 101,
   "metadata": {},
   "outputs": [],
   "source": [
    "# changer la valeur dans la colone EmissionCO2 110-130 par 130 et 130-180 par 180\n",
    "data.loc[data['EmissionCO2'] == '110-130', 'EmissionCO2'] = 130\n",
    "data.loc[data['EmissionCO2'] == '130-180', 'EmissionCO2'] = 180 "
   ]
  },
  {
   "cell_type": "code",
   "execution_count": 102,
   "metadata": {},
   "outputs": [
    {
     "data": {
      "text/html": [
       "<div>\n",
       "<style scoped>\n",
       "    .dataframe tbody tr th:only-of-type {\n",
       "        vertical-align: middle;\n",
       "    }\n",
       "\n",
       "    .dataframe tbody tr th {\n",
       "        vertical-align: top;\n",
       "    }\n",
       "\n",
       "    .dataframe thead th {\n",
       "        text-align: right;\n",
       "    }\n",
       "</style>\n",
       "<table border=\"1\" class=\"dataframe\">\n",
       "  <thead>\n",
       "    <tr style=\"text-align: right;\">\n",
       "      <th></th>\n",
       "      <th>Marque</th>\n",
       "      <th>Année</th>\n",
       "      <th>CodePostal</th>\n",
       "      <th>Carburant</th>\n",
       "      <th>EmissionCO2</th>\n",
       "      <th>Transmission</th>\n",
       "      <th>nbPortes</th>\n",
       "      <th>nbPlace</th>\n",
       "      <th>Kilométrage</th>\n",
       "      <th>Prix</th>\n",
       "    </tr>\n",
       "  </thead>\n",
       "  <tbody>\n",
       "    <tr>\n",
       "      <th>6</th>\n",
       "      <td>BMW</td>\n",
       "      <td>2016</td>\n",
       "      <td>28</td>\n",
       "      <td>Diesel</td>\n",
       "      <td>130</td>\n",
       "      <td>Manuelle</td>\n",
       "      <td>5</td>\n",
       "      <td>5</td>\n",
       "      <td>126220</td>\n",
       "      <td>17480</td>\n",
       "    </tr>\n",
       "    <tr>\n",
       "      <th>17</th>\n",
       "      <td>BMW</td>\n",
       "      <td>2017</td>\n",
       "      <td>66</td>\n",
       "      <td>Diesel</td>\n",
       "      <td>130</td>\n",
       "      <td>Manuelle</td>\n",
       "      <td>5</td>\n",
       "      <td>5</td>\n",
       "      <td>72914</td>\n",
       "      <td>23490</td>\n",
       "    </tr>\n",
       "    <tr>\n",
       "      <th>21</th>\n",
       "      <td>BMW</td>\n",
       "      <td>2018</td>\n",
       "      <td>78</td>\n",
       "      <td>Diesel</td>\n",
       "      <td>130</td>\n",
       "      <td>Manuelle</td>\n",
       "      <td>5</td>\n",
       "      <td>5</td>\n",
       "      <td>105749</td>\n",
       "      <td>16290</td>\n",
       "    </tr>\n",
       "    <tr>\n",
       "      <th>37</th>\n",
       "      <td>BMW</td>\n",
       "      <td>2017</td>\n",
       "      <td>31</td>\n",
       "      <td>Diesel</td>\n",
       "      <td>130</td>\n",
       "      <td>Manuelle</td>\n",
       "      <td>5</td>\n",
       "      <td>5</td>\n",
       "      <td>65718</td>\n",
       "      <td>25100</td>\n",
       "    </tr>\n",
       "    <tr>\n",
       "      <th>51</th>\n",
       "      <td>BMW</td>\n",
       "      <td>2020</td>\n",
       "      <td>67</td>\n",
       "      <td>Diesel</td>\n",
       "      <td>130</td>\n",
       "      <td>Manuelle</td>\n",
       "      <td>5</td>\n",
       "      <td>5</td>\n",
       "      <td>66219</td>\n",
       "      <td>31550</td>\n",
       "    </tr>\n",
       "  </tbody>\n",
       "</table>\n",
       "</div>"
      ],
      "text/plain": [
       "   Marque  Année  CodePostal Carburant EmissionCO2 Transmission  nbPortes  \\\n",
       "6     BMW   2016          28    Diesel         130     Manuelle         5   \n",
       "17    BMW   2017          66    Diesel         130     Manuelle         5   \n",
       "21    BMW   2018          78    Diesel         130     Manuelle         5   \n",
       "37    BMW   2017          31    Diesel         130     Manuelle         5   \n",
       "51    BMW   2020          67    Diesel         130     Manuelle         5   \n",
       "\n",
       "    nbPlace  Kilométrage   Prix  \n",
       "6         5       126220  17480  \n",
       "17        5        72914  23490  \n",
       "21        5       105749  16290  \n",
       "37        5        65718  25100  \n",
       "51        5        66219  31550  "
      ]
     },
     "execution_count": 102,
     "metadata": {},
     "output_type": "execute_result"
    }
   ],
   "source": [
    "data.head()"
   ]
  },
  {
   "cell_type": "code",
   "execution_count": 103,
   "metadata": {},
   "outputs": [
    {
     "data": {
      "text/plain": [
       "array(['BMW', 'RENAULT', 'PEUGEOT', 'VOLKSWAGEN', 'AUDI'], dtype=object)"
      ]
     },
     "execution_count": 103,
     "metadata": {},
     "output_type": "execute_result"
    }
   ],
   "source": [
    "# afficher toutes les marques de voitures\n",
    "data['Marque'].unique()"
   ]
  },
  {
   "cell_type": "code",
   "execution_count": 104,
   "metadata": {},
   "outputs": [],
   "source": [
    "# changer les valeurs dans la colonne Carburant Diesel par 0 , Essence par 1 et Electric par 2\n",
    "data.loc[data['Carburant'] == 'Diesel', 'Carburant'] = 0\n",
    "data.loc[data['Carburant'] == 'Essence', 'Carburant'] = 1\n",
    "data.loc[data['Carburant'] == 'Electric', 'Carburant'] = 2"
   ]
  },
  {
   "cell_type": "code",
   "execution_count": 105,
   "metadata": {},
   "outputs": [],
   "source": [
    "# changer les valeurs dans la colonne Transmission Manuelle par 0 , Automatique par 1\n",
    "data.loc[data['Transmission'] == 'Manuelle', 'Transmission'] = 0\n",
    "data.loc[data['Transmission'] == 'Automatique', 'Transmission'] = 1"
   ]
  },
  {
   "cell_type": "code",
   "execution_count": 106,
   "metadata": {},
   "outputs": [],
   "source": [
    "# changer les valeurs dans la colonne Marque 'BMW', 'RENAULT', 'PEUGEOT', 'VOLKSWAGEN', 'AUDI'\n",
    "data.loc[data['Marque'] == 'BMW', 'Marque'] = 0\n",
    "data.loc[data['Marque'] == 'RENAULT', 'Marque'] = 1\n",
    "data.loc[data['Marque'] == 'PEUGEOT', 'Marque'] = 2\n",
    "data.loc[data['Marque'] == 'VOLKSWAGEN', 'Marque'] = 3\n",
    "data.loc[data['Marque'] == 'AUDI', 'Marque'] = 4"
   ]
  },
  {
   "cell_type": "code",
   "execution_count": 107,
   "metadata": {},
   "outputs": [
    {
     "data": {
      "text/html": [
       "<div>\n",
       "<style scoped>\n",
       "    .dataframe tbody tr th:only-of-type {\n",
       "        vertical-align: middle;\n",
       "    }\n",
       "\n",
       "    .dataframe tbody tr th {\n",
       "        vertical-align: top;\n",
       "    }\n",
       "\n",
       "    .dataframe thead th {\n",
       "        text-align: right;\n",
       "    }\n",
       "</style>\n",
       "<table border=\"1\" class=\"dataframe\">\n",
       "  <thead>\n",
       "    <tr style=\"text-align: right;\">\n",
       "      <th></th>\n",
       "      <th>Marque</th>\n",
       "      <th>Année</th>\n",
       "      <th>CodePostal</th>\n",
       "      <th>Carburant</th>\n",
       "      <th>EmissionCO2</th>\n",
       "      <th>Transmission</th>\n",
       "      <th>nbPortes</th>\n",
       "      <th>nbPlace</th>\n",
       "      <th>Kilométrage</th>\n",
       "      <th>Prix</th>\n",
       "    </tr>\n",
       "  </thead>\n",
       "  <tbody>\n",
       "    <tr>\n",
       "      <th>2474</th>\n",
       "      <td>3</td>\n",
       "      <td>2018</td>\n",
       "      <td>93</td>\n",
       "      <td>0</td>\n",
       "      <td>130</td>\n",
       "      <td>0</td>\n",
       "      <td>5</td>\n",
       "      <td>5</td>\n",
       "      <td>92609</td>\n",
       "      <td>25300</td>\n",
       "    </tr>\n",
       "    <tr>\n",
       "      <th>8857</th>\n",
       "      <td>4</td>\n",
       "      <td>2019</td>\n",
       "      <td>14</td>\n",
       "      <td>1</td>\n",
       "      <td>130</td>\n",
       "      <td>0</td>\n",
       "      <td>5</td>\n",
       "      <td>5</td>\n",
       "      <td>168130</td>\n",
       "      <td>5730</td>\n",
       "    </tr>\n",
       "    <tr>\n",
       "      <th>712</th>\n",
       "      <td>0</td>\n",
       "      <td>2018</td>\n",
       "      <td>62</td>\n",
       "      <td>0</td>\n",
       "      <td>130</td>\n",
       "      <td>0</td>\n",
       "      <td>5</td>\n",
       "      <td>5</td>\n",
       "      <td>60216</td>\n",
       "      <td>27730</td>\n",
       "    </tr>\n",
       "    <tr>\n",
       "      <th>490</th>\n",
       "      <td>1</td>\n",
       "      <td>2019</td>\n",
       "      <td>45</td>\n",
       "      <td>0</td>\n",
       "      <td>130</td>\n",
       "      <td>0</td>\n",
       "      <td>5</td>\n",
       "      <td>5</td>\n",
       "      <td>81552</td>\n",
       "      <td>17820</td>\n",
       "    </tr>\n",
       "    <tr>\n",
       "      <th>4855</th>\n",
       "      <td>3</td>\n",
       "      <td>2017</td>\n",
       "      <td>67</td>\n",
       "      <td>0</td>\n",
       "      <td>130</td>\n",
       "      <td>0</td>\n",
       "      <td>5</td>\n",
       "      <td>5</td>\n",
       "      <td>106218</td>\n",
       "      <td>22680</td>\n",
       "    </tr>\n",
       "  </tbody>\n",
       "</table>\n",
       "</div>"
      ],
      "text/plain": [
       "     Marque  Année  CodePostal Carburant EmissionCO2 Transmission  nbPortes  \\\n",
       "2474      3   2018          93         0         130            0         5   \n",
       "8857      4   2019          14         1         130            0         5   \n",
       "712       0   2018          62         0         130            0         5   \n",
       "490       1   2019          45         0         130            0         5   \n",
       "4855      3   2017          67         0         130            0         5   \n",
       "\n",
       "      nbPlace  Kilométrage   Prix  \n",
       "2474        5        92609  25300  \n",
       "8857        5       168130   5730  \n",
       "712         5        60216  27730  \n",
       "490         5        81552  17820  \n",
       "4855        5       106218  22680  "
      ]
     },
     "execution_count": 107,
     "metadata": {},
     "output_type": "execute_result"
    }
   ],
   "source": [
    "# affichage aleatoire des donnees\n",
    "data.sample(5)"
   ]
  },
  {
   "cell_type": "code",
   "execution_count": 108,
   "metadata": {},
   "outputs": [
    {
     "data": {
      "text/plain": [
       "array([5], dtype=int64)"
      ]
     },
     "execution_count": 108,
     "metadata": {},
     "output_type": "execute_result"
    }
   ],
   "source": [
    "# les valeurs de nbPortes\n",
    "data['nbPortes'].unique()\n",
    "data['nbPlace'].unique()\n"
   ]
  },
  {
   "cell_type": "code",
   "execution_count": 109,
   "metadata": {},
   "outputs": [
    {
     "data": {
      "image/png": "[encoded data removed]",
      "text/plain": [
       "<Figure size 720x504 with 2 Axes>"
      ]
     },
     "metadata": {
      "needs_background": "light"
     },
     "output_type": "display_data"
    }
   ],
   "source": [
    "plt.figure(figsize=(10,7))\n",
    "sns.heatmap(data.corr(), annot=True)\n",
    "plt.title('Correlation between the columns')\n",
    "plt.show()"
   ]
  },
  {
   "cell_type": "code",
   "execution_count": 110,
   "metadata": {},
   "outputs": [],
   "source": [
    "# features et target\n",
    "X = data.drop(['nbPortes', 'nbPlace', 'Prix', 'EmissionCO2', 'Transmission'], axis=1)\n",
    "y = data['Prix']"
   ]
  },
  {
   "cell_type": "code",
   "execution_count": 111,
   "metadata": {},
   "outputs": [],
   "source": [
    "# split data\n",
    "from sklearn.model_selection import train_test_split\n",
    "X_train, X_test, y_train, y_test = train_test_split(X, y, test_size=0.3, random_state=42)\n"
   ]
  },
  {
   "cell_type": "code",
   "execution_count": 112,
   "metadata": {},
   "outputs": [],
   "source": [
    "# scaller les donnees\n",
    "from sklearn.preprocessing import StandardScaler\n",
    "scaler = StandardScaler()\n",
    "X_train = scaler.fit_transform(X_train)\n",
    "X_test = scaler.transform(X_test)\n"
   ]
  },
  {
   "cell_type": "code",
   "execution_count": 113,
   "metadata": {},
   "outputs": [
    {
     "data": {
      "text/plain": [
       "RandomForestRegressor(random_state=42)"
      ]
     },
     "execution_count": 113,
     "metadata": {},
     "output_type": "execute_result"
    }
   ],
   "source": [
    "# model random forest \n",
    "from sklearn.ensemble import RandomForestRegressor\n",
    "regressor = RandomForestRegressor(n_estimators=100, random_state=42)\n",
    "regressor.fit(X_train, y_train)\n"
   ]
  },
  {
   "cell_type": "code",
   "execution_count": 114,
   "metadata": {},
   "outputs": [],
   "source": [
    "# prediction\n",
    "y_pred = regressor.predict(X_test)"
   ]
  },
  {
   "cell_type": "code",
   "execution_count": 115,
   "metadata": {},
   "outputs": [
    {
     "data": {
      "text/plain": [
       "0.5921328694197019"
      ]
     },
     "execution_count": 115,
     "metadata": {},
     "output_type": "execute_result"
    }
   ],
   "source": [
    "# score \n",
    "regressor.score(X_test, y_test)"
   ]
  },
  {
   "cell_type": "code",
   "execution_count": 116,
   "metadata": {},
   "outputs": [
    {
     "name": "stderr",
     "output_type": "stream",
     "text": [
      "C:\\Users\\lajaa\\AppData\\Local\\Programs\\Python\\Python39\\lib\\site-packages\\sklearn\\model_selection\\_validation.py:372: FitFailedWarning: \n",
      "125 fits failed out of a total of 225.\n",
      "The score on these train-test partitions for these parameters will be set to nan.\n",
      "If these failures are not expected, you can try to debug them by setting error_score='raise'.\n",
      "\n",
      "Below are more details about the failures:\n",
      "--------------------------------------------------------------------------------\n",
      "125 fits failed with the following error:\n",
      "Traceback (most recent call last):\n",
      "  File \"C:\\Users\\lajaa\\AppData\\Local\\Programs\\Python\\Python39\\lib\\site-packages\\sklearn\\model_selection\\_validation.py\", line 680, in _fit_and_score\n",
      "    estimator.fit(X_train, y_train, **fit_params)\n",
      "  File \"C:\\Users\\lajaa\\AppData\\Local\\Programs\\Python\\Python39\\lib\\site-packages\\sklearn\\ensemble\\_forest.py\", line 450, in fit\n",
      "    trees = Parallel(\n",
      "  File \"C:\\Users\\lajaa\\AppData\\Local\\Programs\\Python\\Python39\\lib\\site-packages\\joblib\\parallel.py\", line 1043, in __call__\n",
      "    if self.dispatch_one_batch(iterator):\n",
      "  File \"C:\\Users\\lajaa\\AppData\\Local\\Programs\\Python\\Python39\\lib\\site-packages\\joblib\\parallel.py\", line 861, in dispatch_one_batch\n",
      "    self._dispatch(tasks)\n",
      "  File \"C:\\Users\\lajaa\\AppData\\Local\\Programs\\Python\\Python39\\lib\\site-packages\\joblib\\parallel.py\", line 779, in _dispatch\n",
      "    job = self._backend.apply_async(batch, callback=cb)\n",
      "  File \"C:\\Users\\lajaa\\AppData\\Local\\Programs\\Python\\Python39\\lib\\site-packages\\joblib\\_parallel_backends.py\", line 208, in apply_async\n",
      "    result = ImmediateResult(func)\n",
      "  File \"C:\\Users\\lajaa\\AppData\\Local\\Programs\\Python\\Python39\\lib\\site-packages\\joblib\\_parallel_backends.py\", line 572, in __init__\n",
      "    self.results = batch()\n",
      "  File \"C:\\Users\\lajaa\\AppData\\Local\\Programs\\Python\\Python39\\lib\\site-packages\\joblib\\parallel.py\", line 262, in __call__\n",
      "    return [func(*args, **kwargs)\n",
      "  File \"C:\\Users\\lajaa\\AppData\\Local\\Programs\\Python\\Python39\\lib\\site-packages\\joblib\\parallel.py\", line 262, in <listcomp>\n",
      "    return [func(*args, **kwargs)\n",
      "  File \"C:\\Users\\lajaa\\AppData\\Local\\Programs\\Python\\Python39\\lib\\site-packages\\sklearn\\utils\\fixes.py\", line 216, in __call__\n",
      "    return self.function(*args, **kwargs)\n",
      "  File \"C:\\Users\\lajaa\\AppData\\Local\\Programs\\Python\\Python39\\lib\\site-packages\\sklearn\\ensemble\\_forest.py\", line 185, in _parallel_build_trees\n",
      "    tree.fit(X, y, sample_weight=curr_sample_weight, check_input=False)\n",
      "  File \"C:\\Users\\lajaa\\AppData\\Local\\Programs\\Python\\Python39\\lib\\site-packages\\sklearn\\tree\\_classes.py\", line 1315, in fit\n",
      "    super().fit(\n",
      "  File \"C:\\Users\\lajaa\\AppData\\Local\\Programs\\Python\\Python39\\lib\\site-packages\\sklearn\\tree\\_classes.py\", line 308, in fit\n",
      "    raise ValueError(\"max_features must be in (0, n_features]\")\n",
      "ValueError: max_features must be in (0, n_features]\n",
      "\n",
      "  warnings.warn(some_fits_failed_message, FitFailedWarning)\n",
      "C:\\Users\\lajaa\\AppData\\Local\\Programs\\Python\\Python39\\lib\\site-packages\\sklearn\\model_selection\\_search.py:969: UserWarning: One or more of the test scores are non-finite: [-20029092.3835496  -19812127.34618286 -19753761.44137296\n",
      " -19737229.69040979 -19717642.70003933 -20231999.6744913\n",
      " -20077559.16097184 -20089152.13444117 -20109474.786565\n",
      " -20083257.42669407 -20657547.5947677  -20450171.08840043\n",
      " -20430088.3453671  -20417216.37732623 -20408176.98606732\n",
      " -20986113.91877959 -20759813.8902066  -20731343.37610046\n",
      " -20740899.4464105  -20707904.30866482                nan\n",
      "                nan                nan                nan\n",
      "                nan                nan                nan\n",
      "                nan                nan                nan\n",
      "                nan                nan                nan\n",
      "                nan                nan                nan\n",
      "                nan                nan                nan\n",
      "                nan                nan                nan\n",
      "                nan                nan                nan]\n",
      "  warnings.warn(\n"
     ]
    }
   ],
   "source": [
    "# grid search\n",
    "from sklearn.model_selection import GridSearchCV\n",
    "parameters = [{'n_estimators': [100, 200, 300, 400, 500], 'max_features': [2, 3, 4, 5, 6, 7, 8, 9, 10]}]\n",
    "grid_search = GridSearchCV(estimator=regressor, param_grid=parameters, scoring='neg_mean_squared_error', cv=5)\n",
    "grid_search = grid_search.fit(X_train, y_train)\n"
   ]
  },
  {
   "cell_type": "code",
   "execution_count": 117,
   "metadata": {},
   "outputs": [
    {
     "data": {
      "text/plain": [
       "-19717642.700039327"
      ]
     },
     "execution_count": 117,
     "metadata": {},
     "output_type": "execute_result"
    }
   ],
   "source": [
    "# best score\n",
    "grid_search.best_score_"
   ]
  },
  {
   "cell_type": "code",
   "execution_count": 118,
   "metadata": {},
   "outputs": [
    {
     "data": {
      "text/plain": [
       "{'max_features': 2, 'n_estimators': 500}"
      ]
     },
     "execution_count": 118,
     "metadata": {},
     "output_type": "execute_result"
    }
   ],
   "source": [
    "# best parameters\n",
    "grid_search.best_params_"
   ]
  },
  {
   "cell_type": "code",
   "execution_count": 119,
   "metadata": {},
   "outputs": [
    {
     "data": {
      "text/plain": [
       "RandomForestRegressor(max_features=2, n_estimators=500, random_state=42)"
      ]
     },
     "execution_count": 119,
     "metadata": {},
     "output_type": "execute_result"
    }
   ],
   "source": [
    "# faire une  nouvelle experimentaion du model \n",
    "regressor = RandomForestRegressor(n_estimators=500, max_features=2, random_state=42)\n",
    "regressor.fit(X_train, y_train)\n"
   ]
  },
  {
   "cell_type": "code",
   "execution_count": 120,
   "metadata": {},
   "outputs": [],
   "source": [
    "# prediction\n",
    "y_pred = regressor.predict(X_test)\n"
   ]
  },
  {
   "cell_type": "code",
   "execution_count": 121,
   "metadata": {},
   "outputs": [
    {
     "data": {
      "text/plain": [
       "0.6110062311649822"
      ]
     },
     "execution_count": 121,
     "metadata": {},
     "output_type": "execute_result"
    }
   ],
   "source": [
    "# scroe \n",
    "regressor.score(X_test, y_test)"
   ]
  },
  {
   "cell_type": "code",
   "execution_count": 122,
   "metadata": {},
   "outputs": [
    {
     "name": "stderr",
     "output_type": "stream",
     "text": [
      "C:\\Users\\lajaa\\AppData\\Local\\Programs\\Python\\Python39\\lib\\site-packages\\seaborn\\_decorators.py:36: FutureWarning: Pass the following variables as keyword args: x, y. From version 0.12, the only valid positional argument will be `data`, and passing other arguments without an explicit keyword will result in an error or misinterpretation.\n",
      "  warnings.warn(\n"
     ]
    },
    {
     "data": {
      "image/png": "[encoded data removed]",
      "text/plain": [
       "<Figure size 432x288 with 1 Axes>"
      ]
     },
     "metadata": {
      "needs_background": "light"
     },
     "output_type": "display_data"
    }
   ],
   "source": [
    "# regplot avec des couleurs diffe entre les valeurs de y_test et y_pred\n",
    "sns.regplot(y_test, y_pred, color='red', scatter_kws={'s': 100})\n",
    "plt.title('Regression plot')\n",
    "plt.xlabel('y_test')\n",
    "plt.ylabel('y_pred')\n",
    "plt.show()\n"
   ]
  },
  {
   "cell_type": "code",
   "execution_count": 123,
   "metadata": {},
   "outputs": [
    {
     "name": "stderr",
     "output_type": "stream",
     "text": [
      "C:\\Users\\lajaa\\AppData\\Local\\Programs\\Python\\Python39\\lib\\site-packages\\sklearn\\base.py:493: FutureWarning: The feature names should match those that were passed during fit. Starting version 1.2, an error will be raised.\n",
      "Feature names unseen at fit time:\n",
      "- Transmission\n",
      "Feature names seen at fit time, yet now missing:\n",
      "- CodePostal\n",
      "\n",
      "  warnings.warn(message, FutureWarning)\n"
     ]
    },
    {
     "data": {
      "text/plain": [
       "array([33103.594])"
      ]
     },
     "execution_count": 123,
     "metadata": {},
     "output_type": "execute_result"
    }
   ],
   "source": [
    "# faire une simualtion de prediction avec nouvelle voiture de model de marque BMW, 2018, 5 portes, 100000 km, Diesel, Automatique\n",
    "data_pred = pd.DataFrame({'Marque': [0], 'Année': [2018], 'Kilométrage': [100000], 'Carburant': [0], 'Transmission': [1]})\n",
    "data_pred = scaler.transform(data_pred)\n",
    "regressor.predict(data_pred)\n"
   ]
  },
  {
   "cell_type": "code",
   "execution_count": 124,
   "metadata": {},
   "outputs": [
    {
     "name": "stdout",
     "output_type": "stream",
     "text": [
      "MAE : 3604.3036264126986\n",
      "MSE : 21947739.595994134\n",
      "R2_score : 0.6110062311649822\n"
     ]
    }
   ],
   "source": [
    "# afficher le MAE , MSE et R2 score \n",
    "from sklearn.metrics import mean_absolute_error, mean_squared_error, r2_score\n",
    "MAE = mean_absolute_error(y_test, y_pred)\n",
    "MSE = mean_squared_error(y_test, y_pred)\n",
    "R2_score = r2_score(y_test, y_pred)\n",
    "\n",
    "print (\"MAE :\", MAE)\n",
    "print (\"MSE :\", MSE)\n",
    "print (\"R2_score :\",  R2_score)\n"
   ]
  },
  {
   "cell_type": "code",
   "execution_count": 125,
   "metadata": {},
   "outputs": [],
   "source": [
    "# import pickle \n",
    "import pickle"
   ]
  },
  {
   "cell_type": "code",
   "execution_count": 126,
   "metadata": {},
   "outputs": [],
   "source": [
    "# save model\n",
    "pickle.dump(regressor, open('model.pkl', 'wb'))\n"
   ]
  },
  {
   "cell_type": "code",
   "execution_count": 127,
   "metadata": {},
   "outputs": [],
   "source": [
    "# load model\n",
    "model = pickle.load(open('model.pkl', 'rb'))\n"
   ]
  },
  {
   "cell_type": "code",
   "execution_count": 128,
   "metadata": {},
   "outputs": [
    {
     "data": {
      "text/plain": [
       "array([33103.594])"
      ]
     },
     "execution_count": 128,
     "metadata": {},
     "output_type": "execute_result"
    }
   ],
   "source": [
    "# faire une simulation avec notre model.pkl \n",
    "model.predict(data_pred)\n"
   ]
  }
 ],
 "metadata": {
  "interpreter": {
   "hash": "b7d63767994f37dfa86e26829ddb127347db566fbcb91120cb86aef8ecfa4d78"
  },
  "kernelspec": {
   "display_name": "Python 3.9.5 64-bit",
   "language": "python",
   "name": "python3"
  },
  "language_info": {
   "codemirror_mode": {
    "name": "ipython",
    "version": 3
   },
   "file_extension": ".py",
   "mimetype": "text/x-python",
   "name": "python",
   "nbconvert_exporter": "python",
   "pygments_lexer": "ipython3",
   "version": "3.9.5"
  },
  "orig_nbformat": 4
 },
 "nbformat": 4,
 "nbformat_minor": 2
}
