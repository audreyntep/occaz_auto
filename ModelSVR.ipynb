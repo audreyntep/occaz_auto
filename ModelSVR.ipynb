{
 "cells": [
  {
   "cell_type": "code",
   "execution_count": 208,
   "metadata": {},
   "outputs": [],
   "source": [
    "# import libraries\n",
    "import numpy as np\n",
    "import pandas as pd\n",
    "%matplotlib inline\n",
    "import matplotlib.pyplot as plt\n",
    "import seaborn as sns\n",
    "from sklearn.model_selection import train_test_split\n",
    "from sklearn.preprocessing import StandardScaler\n",
    "from sklearn.svm import SVC\n",
    "from sklearn.svm import SVR\n",
    "from sklearn.metrics import confusion_matrix\n",
    "from sklearn.metrics import classification_report\n",
    "from sklearn.metrics import accuracy_score\n",
    "from sklearn.metrics import roc_auc_score\n",
    "from sklearn.metrics import roc_curve\n",
    "from sklearn.metrics import auc"
   ]
  },
  {
   "cell_type": "code",
   "execution_count": 209,
   "metadata": {},
   "outputs": [],
   "source": [
    "# import dataset\n",
    "data = pd.read_csv('dataAutOcaz.csv', sep=';', index_col=0)"
   ]
  },
  {
   "cell_type": "code",
   "execution_count": 210,
   "metadata": {},
   "outputs": [
    {
     "data": {
      "text/html": [
       "<div>\n",
       "<style scoped>\n",
       "    .dataframe tbody tr th:only-of-type {\n",
       "        vertical-align: middle;\n",
       "    }\n",
       "\n",
       "    .dataframe tbody tr th {\n",
       "        vertical-align: top;\n",
       "    }\n",
       "\n",
       "    .dataframe thead th {\n",
       "        text-align: right;\n",
       "    }\n",
       "</style>\n",
       "<table border=\"1\" class=\"dataframe\">\n",
       "  <thead>\n",
       "    <tr style=\"text-align: right;\">\n",
       "      <th></th>\n",
       "      <th>Marque</th>\n",
       "      <th>Année</th>\n",
       "      <th>Code Postal</th>\n",
       "      <th>Carburant</th>\n",
       "      <th>Emission Co2</th>\n",
       "      <th>Transmission</th>\n",
       "      <th>nbPortes</th>\n",
       "      <th>nbPlace</th>\n",
       "      <th>Kilométrage</th>\n",
       "      <th>Prix</th>\n",
       "    </tr>\n",
       "  </thead>\n",
       "  <tbody>\n",
       "    <tr>\n",
       "      <th>0</th>\n",
       "      <td>OPEL</td>\n",
       "      <td>2017</td>\n",
       "      <td>31</td>\n",
       "      <td>Diesel</td>\n",
       "      <td>110-130</td>\n",
       "      <td>Manuelle</td>\n",
       "      <td>5</td>\n",
       "      <td>5</td>\n",
       "      <td>119000</td>\n",
       "      <td>13900</td>\n",
       "    </tr>\n",
       "    <tr>\n",
       "      <th>1</th>\n",
       "      <td>VOLKSWAGEN</td>\n",
       "      <td>2011</td>\n",
       "      <td>55</td>\n",
       "      <td>Diesel</td>\n",
       "      <td>110-130</td>\n",
       "      <td>Manuelle</td>\n",
       "      <td>5</td>\n",
       "      <td>5</td>\n",
       "      <td>72330</td>\n",
       "      <td>13490</td>\n",
       "    </tr>\n",
       "    <tr>\n",
       "      <th>2</th>\n",
       "      <td>AUDI</td>\n",
       "      <td>2016</td>\n",
       "      <td>24</td>\n",
       "      <td>Diesel</td>\n",
       "      <td>110-130</td>\n",
       "      <td>Manuelle</td>\n",
       "      <td>5</td>\n",
       "      <td>5</td>\n",
       "      <td>114100</td>\n",
       "      <td>17990</td>\n",
       "    </tr>\n",
       "    <tr>\n",
       "      <th>3</th>\n",
       "      <td>OPEL</td>\n",
       "      <td>2016</td>\n",
       "      <td>66</td>\n",
       "      <td>Diesel</td>\n",
       "      <td>110-130</td>\n",
       "      <td>Manuelle</td>\n",
       "      <td>5</td>\n",
       "      <td>5</td>\n",
       "      <td>121019</td>\n",
       "      <td>10990</td>\n",
       "    </tr>\n",
       "    <tr>\n",
       "      <th>4</th>\n",
       "      <td>HONDA</td>\n",
       "      <td>2018</td>\n",
       "      <td>69</td>\n",
       "      <td>Diesel</td>\n",
       "      <td>110-130</td>\n",
       "      <td>Manuelle</td>\n",
       "      <td>5</td>\n",
       "      <td>5</td>\n",
       "      <td>88653</td>\n",
       "      <td>21300</td>\n",
       "    </tr>\n",
       "  </tbody>\n",
       "</table>\n",
       "</div>"
      ],
      "text/plain": [
       "       Marque  Année  Code Postal Carburant Emission Co2 Transmission  \\\n",
       "0        OPEL   2017           31    Diesel      110-130     Manuelle   \n",
       "1  VOLKSWAGEN   2011           55    Diesel      110-130     Manuelle   \n",
       "2        AUDI   2016           24    Diesel      110-130     Manuelle   \n",
       "3        OPEL   2016           66    Diesel      110-130     Manuelle   \n",
       "4       HONDA   2018           69    Diesel      110-130     Manuelle   \n",
       "\n",
       "   nbPortes  nbPlace  Kilométrage   Prix  \n",
       "0         5        5       119000  13900  \n",
       "1         5        5        72330  13490  \n",
       "2         5        5       114100  17990  \n",
       "3         5        5       121019  10990  \n",
       "4         5        5        88653  21300  "
      ]
     },
     "execution_count": 210,
     "metadata": {},
     "output_type": "execute_result"
    }
   ],
   "source": [
    "data.head()\n"
   ]
  },
  {
   "cell_type": "code",
   "execution_count": 211,
   "metadata": {},
   "outputs": [],
   "source": [
    "# modifier la valeur 110-130 par 130 et 130-180 par 180 dans la colonne EmissionCo2 \n",
    "data.loc[data['Emission Co2'] == '110-130', 'Emission Co2'] = '130'\n",
    "data.loc[data['Emission Co2'] == '130-180', 'Emission Co2'] = '180'"
   ]
  },
  {
   "cell_type": "code",
   "execution_count": 212,
   "metadata": {},
   "outputs": [
    {
     "data": {
      "text/html": [
       "<div>\n",
       "<style scoped>\n",
       "    .dataframe tbody tr th:only-of-type {\n",
       "        vertical-align: middle;\n",
       "    }\n",
       "\n",
       "    .dataframe tbody tr th {\n",
       "        vertical-align: top;\n",
       "    }\n",
       "\n",
       "    .dataframe thead th {\n",
       "        text-align: right;\n",
       "    }\n",
       "</style>\n",
       "<table border=\"1\" class=\"dataframe\">\n",
       "  <thead>\n",
       "    <tr style=\"text-align: right;\">\n",
       "      <th></th>\n",
       "      <th>Marque</th>\n",
       "      <th>Année</th>\n",
       "      <th>Code Postal</th>\n",
       "      <th>Carburant</th>\n",
       "      <th>Emission Co2</th>\n",
       "      <th>Transmission</th>\n",
       "      <th>nbPortes</th>\n",
       "      <th>nbPlace</th>\n",
       "      <th>Kilométrage</th>\n",
       "      <th>Prix</th>\n",
       "    </tr>\n",
       "  </thead>\n",
       "  <tbody>\n",
       "    <tr>\n",
       "      <th>5658</th>\n",
       "      <td>RENAULT</td>\n",
       "      <td>2021</td>\n",
       "      <td>31</td>\n",
       "      <td>Diesel</td>\n",
       "      <td>130</td>\n",
       "      <td>Manuelle</td>\n",
       "      <td>5</td>\n",
       "      <td>5</td>\n",
       "      <td>15960</td>\n",
       "      <td>20140</td>\n",
       "    </tr>\n",
       "    <tr>\n",
       "      <th>14074</th>\n",
       "      <td>SEAT</td>\n",
       "      <td>2019</td>\n",
       "      <td>93</td>\n",
       "      <td>Essence</td>\n",
       "      <td>130</td>\n",
       "      <td>Manuelle</td>\n",
       "      <td>5</td>\n",
       "      <td>5</td>\n",
       "      <td>23575</td>\n",
       "      <td>21730</td>\n",
       "    </tr>\n",
       "    <tr>\n",
       "      <th>18848</th>\n",
       "      <td>VOLVO</td>\n",
       "      <td>2022</td>\n",
       "      <td>74</td>\n",
       "      <td>Electric</td>\n",
       "      <td>110</td>\n",
       "      <td>Automatique</td>\n",
       "      <td>5</td>\n",
       "      <td>5</td>\n",
       "      <td>1403</td>\n",
       "      <td>29070</td>\n",
       "    </tr>\n",
       "    <tr>\n",
       "      <th>4840</th>\n",
       "      <td>RENAULT</td>\n",
       "      <td>2015</td>\n",
       "      <td>51</td>\n",
       "      <td>Diesel</td>\n",
       "      <td>130</td>\n",
       "      <td>Manuelle</td>\n",
       "      <td>5</td>\n",
       "      <td>5</td>\n",
       "      <td>151760</td>\n",
       "      <td>9620</td>\n",
       "    </tr>\n",
       "    <tr>\n",
       "      <th>8647</th>\n",
       "      <td>OPEL</td>\n",
       "      <td>2018</td>\n",
       "      <td>68</td>\n",
       "      <td>Essence</td>\n",
       "      <td>130</td>\n",
       "      <td>Manuelle</td>\n",
       "      <td>5</td>\n",
       "      <td>5</td>\n",
       "      <td>119751</td>\n",
       "      <td>14350</td>\n",
       "    </tr>\n",
       "  </tbody>\n",
       "</table>\n",
       "</div>"
      ],
      "text/plain": [
       "        Marque  Année  Code Postal Carburant Emission Co2 Transmission  \\\n",
       "5658   RENAULT   2021           31    Diesel          130     Manuelle   \n",
       "14074     SEAT   2019           93   Essence          130     Manuelle   \n",
       "18848    VOLVO   2022           74  Electric          110  Automatique   \n",
       "4840   RENAULT   2015           51    Diesel          130     Manuelle   \n",
       "8647      OPEL   2018           68   Essence          130     Manuelle   \n",
       "\n",
       "       nbPortes  nbPlace  Kilométrage   Prix  \n",
       "5658          5        5        15960  20140  \n",
       "14074         5        5        23575  21730  \n",
       "18848         5        5         1403  29070  \n",
       "4840          5        5       151760   9620  \n",
       "8647          5        5       119751  14350  "
      ]
     },
     "execution_count": 212,
     "metadata": {},
     "output_type": "execute_result"
    }
   ],
   "source": [
    "# melanger les données\n",
    "data = data.sample(frac=1)\n",
    "data.head()"
   ]
  },
  {
   "cell_type": "code",
   "execution_count": 213,
   "metadata": {},
   "outputs": [
    {
     "data": {
      "text/plain": [
       "nbPortes\n",
       "5    22480\n",
       "3      582\n",
       "Name: Marque, dtype: int64"
      ]
     },
     "execution_count": 213,
     "metadata": {},
     "output_type": "execute_result"
    }
   ],
   "source": [
    "# affichage des Marque par rapport au nbPortes\n",
    "nbPortesMarque = data.groupby('nbPortes').count()['Marque']\n",
    "nbPortesMarque.sort_values(ascending=False).head(10)"
   ]
  },
  {
   "cell_type": "code",
   "execution_count": 214,
   "metadata": {},
   "outputs": [
    {
     "data": {
      "text/plain": [
       "Carburant\n",
       "Diesel      10166\n",
       "Essence      9248\n",
       "Electric     3648\n",
       "Name: Marque, dtype: int64"
      ]
     },
     "execution_count": 214,
     "metadata": {},
     "output_type": "execute_result"
    }
   ],
   "source": [
    "# affichage des Marque par rapport au Carburant\n",
    "CarburantMarque = data.groupby('Carburant').count()['Marque']\n",
    "CarburantMarque.sort_values(ascending=False).head(10)"
   ]
  },
  {
   "cell_type": "code",
   "execution_count": 215,
   "metadata": {},
   "outputs": [
    {
     "data": {
      "text/plain": [
       "nbPlace\n",
       "5    22480\n",
       "4      582\n",
       "Name: Marque, dtype: int64"
      ]
     },
     "execution_count": 215,
     "metadata": {},
     "output_type": "execute_result"
    }
   ],
   "source": [
    "# affichage des Marque par rapport au nbPlace\n",
    "nbPlaceMarque = data.groupby('nbPlace').count()['Marque']\n",
    "nbPlaceMarque.sort_values(ascending=False).head(10)"
   ]
  },
  {
   "cell_type": "code",
   "execution_count": 216,
   "metadata": {},
   "outputs": [
    {
     "data": {
      "text/plain": [
       "Marque\n",
       "CUPRA         36774.000000\n",
       "SANTANA       27600.000000\n",
       "LAND          26160.858974\n",
       "PORSCHE       25922.000000\n",
       "VOLVO         23761.785714\n",
       "JAGUAR        23253.131579\n",
       "BMW           23049.854025\n",
       "SERES         22590.909091\n",
       "DS            22589.859813\n",
       "VOLKSWAGEN    22537.204096\n",
       "Name: Prix, dtype: float64"
      ]
     },
     "execution_count": 216,
     "metadata": {},
     "output_type": "execute_result"
    }
   ],
   "source": [
    "# afficher le prix moyen par Marque\n",
    "prixMoyen = data.groupby('Marque').mean()['Prix']\n",
    "prixMoyen.sort_values(ascending=False).head(10)"
   ]
  },
  {
   "cell_type": "code",
   "execution_count": 217,
   "metadata": {},
   "outputs": [],
   "source": [
    "# changer les données de Transmission Manuelle par 0 et Automatique par 1\n",
    "data.loc[data['Transmission'] == 'Manuelle', 'Transmission'] = 0\n",
    "data.loc[data['Transmission'] == 'Automatique', 'Transmission'] = 1\n"
   ]
  },
  {
   "cell_type": "code",
   "execution_count": 218,
   "metadata": {},
   "outputs": [],
   "source": [
    "# changer les données Carburant Diesel par 0 et  essence par 1 et Electrique par 2\n",
    "data.loc[data['Carburant'] == 'Diesel', 'Carburant'] = 0\n",
    "data.loc[data['Carburant'] == 'Essence', 'Carburant'] = 1\n",
    "data.loc[data['Carburant'] == 'Electric', 'Carburant'] = 2"
   ]
  },
  {
   "cell_type": "code",
   "execution_count": 219,
   "metadata": {},
   "outputs": [
    {
     "data": {
      "text/html": [
       "<div>\n",
       "<style scoped>\n",
       "    .dataframe tbody tr th:only-of-type {\n",
       "        vertical-align: middle;\n",
       "    }\n",
       "\n",
       "    .dataframe tbody tr th {\n",
       "        vertical-align: top;\n",
       "    }\n",
       "\n",
       "    .dataframe thead th {\n",
       "        text-align: right;\n",
       "    }\n",
       "</style>\n",
       "<table border=\"1\" class=\"dataframe\">\n",
       "  <thead>\n",
       "    <tr style=\"text-align: right;\">\n",
       "      <th></th>\n",
       "      <th>Marque</th>\n",
       "      <th>Année</th>\n",
       "      <th>Code Postal</th>\n",
       "      <th>Carburant</th>\n",
       "      <th>Emission Co2</th>\n",
       "      <th>Transmission</th>\n",
       "      <th>nbPortes</th>\n",
       "      <th>nbPlace</th>\n",
       "      <th>Kilométrage</th>\n",
       "      <th>Prix</th>\n",
       "    </tr>\n",
       "  </thead>\n",
       "  <tbody>\n",
       "    <tr>\n",
       "      <th>5658</th>\n",
       "      <td>RENAULT</td>\n",
       "      <td>2021</td>\n",
       "      <td>31</td>\n",
       "      <td>0</td>\n",
       "      <td>130</td>\n",
       "      <td>0</td>\n",
       "      <td>5</td>\n",
       "      <td>5</td>\n",
       "      <td>15960</td>\n",
       "      <td>20140</td>\n",
       "    </tr>\n",
       "    <tr>\n",
       "      <th>14074</th>\n",
       "      <td>SEAT</td>\n",
       "      <td>2019</td>\n",
       "      <td>93</td>\n",
       "      <td>1</td>\n",
       "      <td>130</td>\n",
       "      <td>0</td>\n",
       "      <td>5</td>\n",
       "      <td>5</td>\n",
       "      <td>23575</td>\n",
       "      <td>21730</td>\n",
       "    </tr>\n",
       "    <tr>\n",
       "      <th>18848</th>\n",
       "      <td>VOLVO</td>\n",
       "      <td>2022</td>\n",
       "      <td>74</td>\n",
       "      <td>2</td>\n",
       "      <td>110</td>\n",
       "      <td>1</td>\n",
       "      <td>5</td>\n",
       "      <td>5</td>\n",
       "      <td>1403</td>\n",
       "      <td>29070</td>\n",
       "    </tr>\n",
       "    <tr>\n",
       "      <th>4840</th>\n",
       "      <td>RENAULT</td>\n",
       "      <td>2015</td>\n",
       "      <td>51</td>\n",
       "      <td>0</td>\n",
       "      <td>130</td>\n",
       "      <td>0</td>\n",
       "      <td>5</td>\n",
       "      <td>5</td>\n",
       "      <td>151760</td>\n",
       "      <td>9620</td>\n",
       "    </tr>\n",
       "    <tr>\n",
       "      <th>8647</th>\n",
       "      <td>OPEL</td>\n",
       "      <td>2018</td>\n",
       "      <td>68</td>\n",
       "      <td>1</td>\n",
       "      <td>130</td>\n",
       "      <td>0</td>\n",
       "      <td>5</td>\n",
       "      <td>5</td>\n",
       "      <td>119751</td>\n",
       "      <td>14350</td>\n",
       "    </tr>\n",
       "  </tbody>\n",
       "</table>\n",
       "</div>"
      ],
      "text/plain": [
       "        Marque  Année  Code Postal Carburant Emission Co2 Transmission  \\\n",
       "5658   RENAULT   2021           31         0          130            0   \n",
       "14074     SEAT   2019           93         1          130            0   \n",
       "18848    VOLVO   2022           74         2          110            1   \n",
       "4840   RENAULT   2015           51         0          130            0   \n",
       "8647      OPEL   2018           68         1          130            0   \n",
       "\n",
       "       nbPortes  nbPlace  Kilométrage   Prix  \n",
       "5658          5        5        15960  20140  \n",
       "14074         5        5        23575  21730  \n",
       "18848         5        5         1403  29070  \n",
       "4840          5        5       151760   9620  \n",
       "8647          5        5       119751  14350  "
      ]
     },
     "execution_count": 219,
     "metadata": {},
     "output_type": "execute_result"
    }
   ],
   "source": [
    "data.head()"
   ]
  },
  {
   "cell_type": "code",
   "execution_count": 220,
   "metadata": {},
   "outputs": [],
   "source": [
    "# encoder la colonne Marque \n",
    "data['Marque'] = data['Marque'].astype('category')\n",
    "data.Marque = data.Marque.cat.codes\n"
   ]
  },
  {
   "cell_type": "code",
   "execution_count": 221,
   "metadata": {},
   "outputs": [
    {
     "data": {
      "text/html": [
       "<div>\n",
       "<style scoped>\n",
       "    .dataframe tbody tr th:only-of-type {\n",
       "        vertical-align: middle;\n",
       "    }\n",
       "\n",
       "    .dataframe tbody tr th {\n",
       "        vertical-align: top;\n",
       "    }\n",
       "\n",
       "    .dataframe thead th {\n",
       "        text-align: right;\n",
       "    }\n",
       "</style>\n",
       "<table border=\"1\" class=\"dataframe\">\n",
       "  <thead>\n",
       "    <tr style=\"text-align: right;\">\n",
       "      <th></th>\n",
       "      <th>Marque</th>\n",
       "      <th>Année</th>\n",
       "      <th>Code Postal</th>\n",
       "      <th>Carburant</th>\n",
       "      <th>Emission Co2</th>\n",
       "      <th>Transmission</th>\n",
       "      <th>nbPortes</th>\n",
       "      <th>nbPlace</th>\n",
       "      <th>Kilométrage</th>\n",
       "      <th>Prix</th>\n",
       "    </tr>\n",
       "  </thead>\n",
       "  <tbody>\n",
       "    <tr>\n",
       "      <th>5658</th>\n",
       "      <td>30</td>\n",
       "      <td>2021</td>\n",
       "      <td>31</td>\n",
       "      <td>0</td>\n",
       "      <td>130</td>\n",
       "      <td>0</td>\n",
       "      <td>5</td>\n",
       "      <td>5</td>\n",
       "      <td>15960</td>\n",
       "      <td>20140</td>\n",
       "    </tr>\n",
       "    <tr>\n",
       "      <th>14074</th>\n",
       "      <td>32</td>\n",
       "      <td>2019</td>\n",
       "      <td>93</td>\n",
       "      <td>1</td>\n",
       "      <td>130</td>\n",
       "      <td>0</td>\n",
       "      <td>5</td>\n",
       "      <td>5</td>\n",
       "      <td>23575</td>\n",
       "      <td>21730</td>\n",
       "    </tr>\n",
       "    <tr>\n",
       "      <th>18848</th>\n",
       "      <td>41</td>\n",
       "      <td>2022</td>\n",
       "      <td>74</td>\n",
       "      <td>2</td>\n",
       "      <td>110</td>\n",
       "      <td>1</td>\n",
       "      <td>5</td>\n",
       "      <td>5</td>\n",
       "      <td>1403</td>\n",
       "      <td>29070</td>\n",
       "    </tr>\n",
       "    <tr>\n",
       "      <th>4840</th>\n",
       "      <td>30</td>\n",
       "      <td>2015</td>\n",
       "      <td>51</td>\n",
       "      <td>0</td>\n",
       "      <td>130</td>\n",
       "      <td>0</td>\n",
       "      <td>5</td>\n",
       "      <td>5</td>\n",
       "      <td>151760</td>\n",
       "      <td>9620</td>\n",
       "    </tr>\n",
       "    <tr>\n",
       "      <th>8647</th>\n",
       "      <td>27</td>\n",
       "      <td>2018</td>\n",
       "      <td>68</td>\n",
       "      <td>1</td>\n",
       "      <td>130</td>\n",
       "      <td>0</td>\n",
       "      <td>5</td>\n",
       "      <td>5</td>\n",
       "      <td>119751</td>\n",
       "      <td>14350</td>\n",
       "    </tr>\n",
       "  </tbody>\n",
       "</table>\n",
       "</div>"
      ],
      "text/plain": [
       "       Marque  Année  Code Postal Carburant Emission Co2 Transmission  \\\n",
       "5658       30   2021           31         0          130            0   \n",
       "14074      32   2019           93         1          130            0   \n",
       "18848      41   2022           74         2          110            1   \n",
       "4840       30   2015           51         0          130            0   \n",
       "8647       27   2018           68         1          130            0   \n",
       "\n",
       "       nbPortes  nbPlace  Kilométrage   Prix  \n",
       "5658          5        5        15960  20140  \n",
       "14074         5        5        23575  21730  \n",
       "18848         5        5         1403  29070  \n",
       "4840          5        5       151760   9620  \n",
       "8647          5        5       119751  14350  "
      ]
     },
     "execution_count": 221,
     "metadata": {},
     "output_type": "execute_result"
    }
   ],
   "source": [
    "data.head()"
   ]
  },
  {
   "cell_type": "code",
   "execution_count": 222,
   "metadata": {},
   "outputs": [
    {
     "name": "stdout",
     "output_type": "stream",
     "text": [
      "(23062, 9)\n",
      "(23062,)\n"
     ]
    }
   ],
   "source": [
    "# definir les variables d'entrée toutes les colonnes sauf la colonne prix \n",
    "X = data.drop('Prix', axis=1)\n",
    "\n",
    "#definir la colonne de prix comme variable de sortie\n",
    "y = data['Prix']\n",
    "\n",
    "print (X.shape)\n",
    "print (y.shape)\n"
   ]
  },
  {
   "cell_type": "code",
   "execution_count": 223,
   "metadata": {},
   "outputs": [
    {
     "name": "stdout",
     "output_type": "stream",
     "text": [
      "(18449, 9)\n",
      "(4613, 9)\n",
      "(18449,)\n",
      "(4613,)\n"
     ]
    }
   ],
   "source": [
    "# definir les features et le label\n",
    "X_train, X_test, y_train, y_test = train_test_split(X, y, test_size=0.2, random_state=0)\n",
    "print (X_train.shape)\n",
    "print (X_test.shape)\n",
    "print (y_train.shape)\n",
    "print (y_test.shape)"
   ]
  },
  {
   "cell_type": "code",
   "execution_count": 224,
   "metadata": {},
   "outputs": [],
   "source": [
    "# definir le scaler\n",
    "scaler = StandardScaler()\n"
   ]
  },
  {
   "cell_type": "code",
   "execution_count": 225,
   "metadata": {},
   "outputs": [],
   "source": [
    "# appliquer le scaler sur les features\n",
    "X_train = scaler.fit_transform(X_train)\n",
    "X_test = scaler.transform(X_test)\n"
   ]
  },
  {
   "cell_type": "code",
   "execution_count": 226,
   "metadata": {},
   "outputs": [],
   "source": [
    "# definir le modele SVR\n",
    "model = SVR(kernel='rbf', C=1e3, gamma=0.1)\n"
   ]
  },
  {
   "cell_type": "code",
   "execution_count": 227,
   "metadata": {},
   "outputs": [
    {
     "data": {
      "text/plain": [
       "SVR(C=1000.0, gamma=0.1)"
      ]
     },
     "execution_count": 227,
     "metadata": {},
     "output_type": "execute_result"
    }
   ],
   "source": [
    "# entrainer le modele\n",
    "model.fit(X_train, y_train)\n"
   ]
  },
  {
   "cell_type": "code",
   "execution_count": 228,
   "metadata": {},
   "outputs": [],
   "source": [
    "# predire les prix\n",
    "y_pred = model.predict(X_test)\n"
   ]
  },
  {
   "cell_type": "code",
   "execution_count": 229,
   "metadata": {},
   "outputs": [
    {
     "name": "stdout",
     "output_type": "stream",
     "text": [
      "0.3806594328089298\n"
     ]
    }
   ],
   "source": [
    "# afficher le score\n",
    "print (model.score(X_test, y_test))"
   ]
  }
 ],
 "metadata": {
  "interpreter": {
   "hash": "b7d63767994f37dfa86e26829ddb127347db566fbcb91120cb86aef8ecfa4d78"
  },
  "kernelspec": {
   "display_name": "Python 3.9.5 64-bit",
   "language": "python",
   "name": "python3"
  },
  "language_info": {
   "codemirror_mode": {
    "name": "ipython",
    "version": 3
   },
   "file_extension": ".py",
   "mimetype": "text/x-python",
   "name": "python",
   "nbconvert_exporter": "python",
   "pygments_lexer": "ipython3",
   "version": "3.9.5"
  },
  "orig_nbformat": 4
 },
 "nbformat": 4,
 "nbformat_minor": 2
}
