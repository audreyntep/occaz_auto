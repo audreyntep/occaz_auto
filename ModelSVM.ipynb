{
 "cells": [
  {
   "cell_type": "code",
   "execution_count": 16,
   "metadata": {},
   "outputs": [],
   "source": [
    "# import libraries\n",
    "import numpy as np\n",
    "import pandas as pd\n",
    "%matplotlib inline\n",
    "import matplotlib.pyplot as plt\n",
    "import seaborn as sns\n",
    "from sklearn.model_selection import train_test_split\n",
    "from sklearn.preprocessing import StandardScaler\n",
    "from sklearn.linear_model import LogisticRegression\n",
    "from sklearn.metrics import confusion_matrix\n",
    "from sklearn.metrics import classification_report\n",
    "from sklearn.metrics import accuracy_score\n",
    "from sklearn.metrics import roc_auc_score\n",
    "from sklearn.metrics import roc_curve\n",
    "from sklearn.metrics import auc\n",
    "from sklearn.metrics import precision_recall_curve"
   ]
  },
  {
   "cell_type": "code",
   "execution_count": 17,
   "metadata": {},
   "outputs": [],
   "source": [
    "# import data\n",
    "df = pd.read_csv('dataAutOcaz.csv', sep=';')"
   ]
  },
  {
   "cell_type": "code",
   "execution_count": 18,
   "metadata": {},
   "outputs": [
    {
     "data": {
      "text/html": [
       "<div>\n",
       "<style scoped>\n",
       "    .dataframe tbody tr th:only-of-type {\n",
       "        vertical-align: middle;\n",
       "    }\n",
       "\n",
       "    .dataframe tbody tr th {\n",
       "        vertical-align: top;\n",
       "    }\n",
       "\n",
       "    .dataframe thead th {\n",
       "        text-align: right;\n",
       "    }\n",
       "</style>\n",
       "<table border=\"1\" class=\"dataframe\">\n",
       "  <thead>\n",
       "    <tr style=\"text-align: right;\">\n",
       "      <th></th>\n",
       "      <th>Unnamed: 0</th>\n",
       "      <th>Marque</th>\n",
       "      <th>Année</th>\n",
       "      <th>Code Postal</th>\n",
       "      <th>Carburant</th>\n",
       "      <th>Emission Co2</th>\n",
       "      <th>Transmission</th>\n",
       "      <th>nbPortes</th>\n",
       "      <th>nbPlace</th>\n",
       "      <th>Kilométrage</th>\n",
       "      <th>Prix</th>\n",
       "    </tr>\n",
       "  </thead>\n",
       "  <tbody>\n",
       "    <tr>\n",
       "      <th>0</th>\n",
       "      <td>0</td>\n",
       "      <td>OPEL</td>\n",
       "      <td>2017</td>\n",
       "      <td>31</td>\n",
       "      <td>Diesel</td>\n",
       "      <td>110-130</td>\n",
       "      <td>Manuelle</td>\n",
       "      <td>5</td>\n",
       "      <td>5</td>\n",
       "      <td>119000</td>\n",
       "      <td>13900</td>\n",
       "    </tr>\n",
       "    <tr>\n",
       "      <th>1</th>\n",
       "      <td>1</td>\n",
       "      <td>VOLKSWAGEN</td>\n",
       "      <td>2011</td>\n",
       "      <td>55</td>\n",
       "      <td>Diesel</td>\n",
       "      <td>110-130</td>\n",
       "      <td>Manuelle</td>\n",
       "      <td>5</td>\n",
       "      <td>5</td>\n",
       "      <td>72330</td>\n",
       "      <td>13490</td>\n",
       "    </tr>\n",
       "    <tr>\n",
       "      <th>2</th>\n",
       "      <td>2</td>\n",
       "      <td>AUDI</td>\n",
       "      <td>2016</td>\n",
       "      <td>24</td>\n",
       "      <td>Diesel</td>\n",
       "      <td>110-130</td>\n",
       "      <td>Manuelle</td>\n",
       "      <td>5</td>\n",
       "      <td>5</td>\n",
       "      <td>114100</td>\n",
       "      <td>17990</td>\n",
       "    </tr>\n",
       "    <tr>\n",
       "      <th>3</th>\n",
       "      <td>3</td>\n",
       "      <td>OPEL</td>\n",
       "      <td>2016</td>\n",
       "      <td>66</td>\n",
       "      <td>Diesel</td>\n",
       "      <td>110-130</td>\n",
       "      <td>Manuelle</td>\n",
       "      <td>5</td>\n",
       "      <td>5</td>\n",
       "      <td>121019</td>\n",
       "      <td>10990</td>\n",
       "    </tr>\n",
       "    <tr>\n",
       "      <th>4</th>\n",
       "      <td>4</td>\n",
       "      <td>HONDA</td>\n",
       "      <td>2018</td>\n",
       "      <td>69</td>\n",
       "      <td>Diesel</td>\n",
       "      <td>110-130</td>\n",
       "      <td>Manuelle</td>\n",
       "      <td>5</td>\n",
       "      <td>5</td>\n",
       "      <td>88653</td>\n",
       "      <td>21300</td>\n",
       "    </tr>\n",
       "  </tbody>\n",
       "</table>\n",
       "</div>"
      ],
      "text/plain": [
       "   Unnamed: 0      Marque  Année  Code Postal Carburant Emission Co2  \\\n",
       "0           0        OPEL   2017           31    Diesel      110-130   \n",
       "1           1  VOLKSWAGEN   2011           55    Diesel      110-130   \n",
       "2           2        AUDI   2016           24    Diesel      110-130   \n",
       "3           3        OPEL   2016           66    Diesel      110-130   \n",
       "4           4       HONDA   2018           69    Diesel      110-130   \n",
       "\n",
       "  Transmission  nbPortes  nbPlace  Kilométrage   Prix  \n",
       "0     Manuelle         5        5       119000  13900  \n",
       "1     Manuelle         5        5        72330  13490  \n",
       "2     Manuelle         5        5       114100  17990  \n",
       "3     Manuelle         5        5       121019  10990  \n",
       "4     Manuelle         5        5        88653  21300  "
      ]
     },
     "execution_count": 18,
     "metadata": {},
     "output_type": "execute_result"
    }
   ],
   "source": [
    "df.head()\n"
   ]
  },
  {
   "cell_type": "code",
   "execution_count": 19,
   "metadata": {},
   "outputs": [],
   "source": [
    "# suppression de la colonne 'Unnamed: 0'\n",
    "df = df.drop(columns=['Unnamed: 0'])"
   ]
  },
  {
   "cell_type": "code",
   "execution_count": 20,
   "metadata": {},
   "outputs": [
    {
     "data": {
      "text/html": [
       "<div>\n",
       "<style scoped>\n",
       "    .dataframe tbody tr th:only-of-type {\n",
       "        vertical-align: middle;\n",
       "    }\n",
       "\n",
       "    .dataframe tbody tr th {\n",
       "        vertical-align: top;\n",
       "    }\n",
       "\n",
       "    .dataframe thead th {\n",
       "        text-align: right;\n",
       "    }\n",
       "</style>\n",
       "<table border=\"1\" class=\"dataframe\">\n",
       "  <thead>\n",
       "    <tr style=\"text-align: right;\">\n",
       "      <th></th>\n",
       "      <th>Marque</th>\n",
       "      <th>Année</th>\n",
       "      <th>Code Postal</th>\n",
       "      <th>Carburant</th>\n",
       "      <th>Emission Co2</th>\n",
       "      <th>Transmission</th>\n",
       "      <th>nbPortes</th>\n",
       "      <th>nbPlace</th>\n",
       "      <th>Kilométrage</th>\n",
       "      <th>Prix</th>\n",
       "    </tr>\n",
       "  </thead>\n",
       "  <tbody>\n",
       "    <tr>\n",
       "      <th>0</th>\n",
       "      <td>OPEL</td>\n",
       "      <td>2017</td>\n",
       "      <td>31</td>\n",
       "      <td>Diesel</td>\n",
       "      <td>110-130</td>\n",
       "      <td>Manuelle</td>\n",
       "      <td>5</td>\n",
       "      <td>5</td>\n",
       "      <td>119000</td>\n",
       "      <td>13900</td>\n",
       "    </tr>\n",
       "    <tr>\n",
       "      <th>1</th>\n",
       "      <td>VOLKSWAGEN</td>\n",
       "      <td>2011</td>\n",
       "      <td>55</td>\n",
       "      <td>Diesel</td>\n",
       "      <td>110-130</td>\n",
       "      <td>Manuelle</td>\n",
       "      <td>5</td>\n",
       "      <td>5</td>\n",
       "      <td>72330</td>\n",
       "      <td>13490</td>\n",
       "    </tr>\n",
       "    <tr>\n",
       "      <th>2</th>\n",
       "      <td>AUDI</td>\n",
       "      <td>2016</td>\n",
       "      <td>24</td>\n",
       "      <td>Diesel</td>\n",
       "      <td>110-130</td>\n",
       "      <td>Manuelle</td>\n",
       "      <td>5</td>\n",
       "      <td>5</td>\n",
       "      <td>114100</td>\n",
       "      <td>17990</td>\n",
       "    </tr>\n",
       "    <tr>\n",
       "      <th>3</th>\n",
       "      <td>OPEL</td>\n",
       "      <td>2016</td>\n",
       "      <td>66</td>\n",
       "      <td>Diesel</td>\n",
       "      <td>110-130</td>\n",
       "      <td>Manuelle</td>\n",
       "      <td>5</td>\n",
       "      <td>5</td>\n",
       "      <td>121019</td>\n",
       "      <td>10990</td>\n",
       "    </tr>\n",
       "    <tr>\n",
       "      <th>4</th>\n",
       "      <td>HONDA</td>\n",
       "      <td>2018</td>\n",
       "      <td>69</td>\n",
       "      <td>Diesel</td>\n",
       "      <td>110-130</td>\n",
       "      <td>Manuelle</td>\n",
       "      <td>5</td>\n",
       "      <td>5</td>\n",
       "      <td>88653</td>\n",
       "      <td>21300</td>\n",
       "    </tr>\n",
       "  </tbody>\n",
       "</table>\n",
       "</div>"
      ],
      "text/plain": [
       "       Marque  Année  Code Postal Carburant Emission Co2 Transmission  \\\n",
       "0        OPEL   2017           31    Diesel      110-130     Manuelle   \n",
       "1  VOLKSWAGEN   2011           55    Diesel      110-130     Manuelle   \n",
       "2        AUDI   2016           24    Diesel      110-130     Manuelle   \n",
       "3        OPEL   2016           66    Diesel      110-130     Manuelle   \n",
       "4       HONDA   2018           69    Diesel      110-130     Manuelle   \n",
       "\n",
       "   nbPortes  nbPlace  Kilométrage   Prix  \n",
       "0         5        5       119000  13900  \n",
       "1         5        5        72330  13490  \n",
       "2         5        5       114100  17990  \n",
       "3         5        5       121019  10990  \n",
       "4         5        5        88653  21300  "
      ]
     },
     "execution_count": 20,
     "metadata": {},
     "output_type": "execute_result"
    }
   ],
   "source": [
    "df.head()"
   ]
  },
  {
   "cell_type": "code",
   "execution_count": 21,
   "metadata": {},
   "outputs": [
    {
     "data": {
      "text/html": [
       "<div>\n",
       "<style scoped>\n",
       "    .dataframe tbody tr th:only-of-type {\n",
       "        vertical-align: middle;\n",
       "    }\n",
       "\n",
       "    .dataframe tbody tr th {\n",
       "        vertical-align: top;\n",
       "    }\n",
       "\n",
       "    .dataframe thead th {\n",
       "        text-align: right;\n",
       "    }\n",
       "</style>\n",
       "<table border=\"1\" class=\"dataframe\">\n",
       "  <thead>\n",
       "    <tr style=\"text-align: right;\">\n",
       "      <th></th>\n",
       "      <th>Année</th>\n",
       "      <th>Code Postal</th>\n",
       "      <th>nbPortes</th>\n",
       "      <th>nbPlace</th>\n",
       "      <th>Kilométrage</th>\n",
       "      <th>Prix</th>\n",
       "    </tr>\n",
       "  </thead>\n",
       "  <tbody>\n",
       "    <tr>\n",
       "      <th>count</th>\n",
       "      <td>23062.000000</td>\n",
       "      <td>23062.000000</td>\n",
       "      <td>23062.000000</td>\n",
       "      <td>23062.000000</td>\n",
       "      <td>23062.000000</td>\n",
       "      <td>23062.000000</td>\n",
       "    </tr>\n",
       "    <tr>\n",
       "      <th>mean</th>\n",
       "      <td>2018.946362</td>\n",
       "      <td>52.082907</td>\n",
       "      <td>4.949527</td>\n",
       "      <td>4.974764</td>\n",
       "      <td>57355.247810</td>\n",
       "      <td>21207.723224</td>\n",
       "    </tr>\n",
       "    <tr>\n",
       "      <th>std</th>\n",
       "      <td>2.938603</td>\n",
       "      <td>26.883221</td>\n",
       "      <td>0.313691</td>\n",
       "      <td>0.156846</td>\n",
       "      <td>51649.039998</td>\n",
       "      <td>6860.013482</td>\n",
       "    </tr>\n",
       "    <tr>\n",
       "      <th>min</th>\n",
       "      <td>1970.000000</td>\n",
       "      <td>1.000000</td>\n",
       "      <td>3.000000</td>\n",
       "      <td>4.000000</td>\n",
       "      <td>1.000000</td>\n",
       "      <td>2320.000000</td>\n",
       "    </tr>\n",
       "    <tr>\n",
       "      <th>25%</th>\n",
       "      <td>2018.000000</td>\n",
       "      <td>31.000000</td>\n",
       "      <td>5.000000</td>\n",
       "      <td>5.000000</td>\n",
       "      <td>15408.000000</td>\n",
       "      <td>16990.000000</td>\n",
       "    </tr>\n",
       "    <tr>\n",
       "      <th>50%</th>\n",
       "      <td>2020.000000</td>\n",
       "      <td>54.000000</td>\n",
       "      <td>5.000000</td>\n",
       "      <td>5.000000</td>\n",
       "      <td>44389.500000</td>\n",
       "      <td>20990.000000</td>\n",
       "    </tr>\n",
       "    <tr>\n",
       "      <th>75%</th>\n",
       "      <td>2021.000000</td>\n",
       "      <td>77.000000</td>\n",
       "      <td>5.000000</td>\n",
       "      <td>5.000000</td>\n",
       "      <td>86763.000000</td>\n",
       "      <td>25450.000000</td>\n",
       "    </tr>\n",
       "    <tr>\n",
       "      <th>max</th>\n",
       "      <td>2023.000000</td>\n",
       "      <td>98.000000</td>\n",
       "      <td>5.000000</td>\n",
       "      <td>5.000000</td>\n",
       "      <td>341620.000000</td>\n",
       "      <td>51590.000000</td>\n",
       "    </tr>\n",
       "  </tbody>\n",
       "</table>\n",
       "</div>"
      ],
      "text/plain": [
       "              Année   Code Postal      nbPortes       nbPlace    Kilométrage  \\\n",
       "count  23062.000000  23062.000000  23062.000000  23062.000000   23062.000000   \n",
       "mean    2018.946362     52.082907      4.949527      4.974764   57355.247810   \n",
       "std        2.938603     26.883221      0.313691      0.156846   51649.039998   \n",
       "min     1970.000000      1.000000      3.000000      4.000000       1.000000   \n",
       "25%     2018.000000     31.000000      5.000000      5.000000   15408.000000   \n",
       "50%     2020.000000     54.000000      5.000000      5.000000   44389.500000   \n",
       "75%     2021.000000     77.000000      5.000000      5.000000   86763.000000   \n",
       "max     2023.000000     98.000000      5.000000      5.000000  341620.000000   \n",
       "\n",
       "               Prix  \n",
       "count  23062.000000  \n",
       "mean   21207.723224  \n",
       "std     6860.013482  \n",
       "min     2320.000000  \n",
       "25%    16990.000000  \n",
       "50%    20990.000000  \n",
       "75%    25450.000000  \n",
       "max    51590.000000  "
      ]
     },
     "execution_count": 21,
     "metadata": {},
     "output_type": "execute_result"
    }
   ],
   "source": [
    "# description de la dataframe\n",
    "df.describe()"
   ]
  },
  {
   "cell_type": "code",
   "execution_count": 22,
   "metadata": {},
   "outputs": [
    {
     "data": {
      "text/plain": [
       "Code Postal\n",
       "78    876\n",
       "13    871\n",
       "31    804\n",
       "77    804\n",
       "59    784\n",
       "33    669\n",
       "93    640\n",
       "91    633\n",
       "69    498\n",
       "35    494\n",
       "Name: Marque, dtype: int64"
      ]
     },
     "execution_count": 22,
     "metadata": {},
     "output_type": "execute_result"
    }
   ],
   "source": [
    "# affichage des marque par rapport aux code postal\n",
    "CPMarque = df.groupby('Code Postal').count()['Marque']\n",
    "CPMarque.sort_values(ascending=False).head(10)"
   ]
  },
  {
   "cell_type": "code",
   "execution_count": 23,
   "metadata": {},
   "outputs": [
    {
     "data": {
      "text/plain": [
       "nbPortes\n",
       "5    22480\n",
       "3      582\n",
       "Name: Marque, dtype: int64"
      ]
     },
     "execution_count": 23,
     "metadata": {},
     "output_type": "execute_result"
    }
   ],
   "source": [
    "# affichage des Marque par rapport au nbPortes\n",
    "nbPortesMarque = df.groupby('nbPortes').count()['Marque']\n",
    "nbPortesMarque.sort_values(ascending=False).head(10)"
   ]
  },
  {
   "cell_type": "code",
   "execution_count": 24,
   "metadata": {},
   "outputs": [
    {
     "data": {
      "text/plain": [
       "Carburant\n",
       "Diesel      10166\n",
       "Essence      9248\n",
       "Electric     3648\n",
       "Name: Marque, dtype: int64"
      ]
     },
     "execution_count": 24,
     "metadata": {},
     "output_type": "execute_result"
    }
   ],
   "source": [
    "# affichage des Marque par rapport au Carburant\n",
    "CarburantMarque = df.groupby('Carburant').count()['Marque']\n",
    "CarburantMarque.sort_values(ascending=False).head(10)"
   ]
  },
  {
   "cell_type": "code",
   "execution_count": 25,
   "metadata": {},
   "outputs": [
    {
     "data": {
      "text/plain": [
       "nbPlace\n",
       "5    22480\n",
       "4      582\n",
       "Name: Marque, dtype: int64"
      ]
     },
     "execution_count": 25,
     "metadata": {},
     "output_type": "execute_result"
    }
   ],
   "source": [
    "# affichage des Marque par rapport au nbPlace\n",
    "nbPlaceMarque = df.groupby('nbPlace').count()['Marque']\n",
    "nbPlaceMarque.sort_values(ascending=False).head(10)"
   ]
  },
  {
   "cell_type": "code",
   "execution_count": 26,
   "metadata": {},
   "outputs": [
    {
     "data": {
      "text/plain": [
       "Marque\n",
       "ALFA          17208.823529\n",
       "AUDI          22461.839286\n",
       "BMW           23049.854025\n",
       "BOLLORE       21488.571429\n",
       "CHEVROLET     22256.428571\n",
       "CITROEN       21093.043050\n",
       "CUPRA         36774.000000\n",
       "DACIA         19743.963776\n",
       "DAIHATSU      18900.000000\n",
       "DODGE         20085.000000\n",
       "DS            22589.859813\n",
       "FIAT          20322.800202\n",
       "FORD          20729.679745\n",
       "HONDA         21045.403509\n",
       "HYUNDAI       20934.214141\n",
       "JAGUAR        23253.131579\n",
       "JEEP          20599.042254\n",
       "KIA           20504.723810\n",
       "LANCIA        14145.000000\n",
       "LAND          26160.858974\n",
       "LEXUS         21695.250000\n",
       "MAZDA         21249.265896\n",
       "MERCEDES      22295.814126\n",
       "MG            22291.176471\n",
       "MINI          21486.081374\n",
       "MITSUBISHI    21293.243243\n",
       "NISSAN        20074.135783\n",
       "OPEL          20656.222686\n",
       "PEUGEOT       22293.704938\n",
       "PORSCHE       25922.000000\n",
       "RENAULT       20379.201604\n",
       "SANTANA       27600.000000\n",
       "SEAT          20731.945486\n",
       "SERES         22590.909091\n",
       "SKODA         21929.882166\n",
       "SSANGYONG     16159.259259\n",
       "SUBARU        21123.333333\n",
       "SUZUKI        19375.696721\n",
       "TESLA         20444.722222\n",
       "TOYOTA        19283.493671\n",
       "VOLKSWAGEN    22537.204096\n",
       "VOLVO         23761.785714\n",
       "Name: Prix, dtype: float64"
      ]
     },
     "execution_count": 26,
     "metadata": {},
     "output_type": "execute_result"
    }
   ],
   "source": [
    "# afficher le prix moyen par Marque\n",
    "df.groupby('Marque').mean()['Prix']\n"
   ]
  },
  {
   "cell_type": "code",
   "execution_count": 27,
   "metadata": {},
   "outputs": [
    {
     "data": {
      "text/plain": [
       "<AxesSubplot:>"
      ]
     },
     "execution_count": 27,
     "metadata": {},
     "output_type": "execute_result"
    },
    {
     "data": {
      "image/png": "[encoded data removed]",
      "text/plain": [
       "<Figure size 432x288 with 2 Axes>"
      ]
     },
     "metadata": {
      "needs_background": "light"
     },
     "output_type": "display_data"
    }
   ],
   "source": [
    "#matrice de correlation\n",
    "corr = df.corr()\n",
    "sns.heatmap(corr,\n",
    "            xticklabels=corr.columns,\n",
    "            yticklabels=corr.columns)\n",
    "            \n"
   ]
  },
  {
   "cell_type": "code",
   "execution_count": 28,
   "metadata": {},
   "outputs": [],
   "source": [
    "# encoder les variables catégorielles Marque, Carburant, Transmission, Emission Co2\n",
    "from sklearn.preprocessing import OneHotEncoder\n",
    "\n",
    "encoder = OneHotEncoder(handle_unknown='ignore')\n",
    "encoder.fit(df[['Marque']])\n",
    "df['Marque'] = encoder.transform(df[['Marque']]).toarray()\n",
    "encoder.fit(df[['Carburant']])\n",
    "df['Carburant'] = encoder.transform(df[['Carburant']]).toarray()\n",
    "encoder.fit(df[['Transmission']])\n",
    "df['Transmission'] = encoder.transform(df[['Transmission']]).toarray()\n",
    "encoder.fit(df[['Emission Co2']])\n",
    "df['Emission Co2'] = encoder.transform(df[['Emission Co2']]).toarray()\n"
   ]
  },
  {
   "cell_type": "code",
   "execution_count": 29,
   "metadata": {},
   "outputs": [
    {
     "data": {
      "text/html": [
       "<div>\n",
       "<style scoped>\n",
       "    .dataframe tbody tr th:only-of-type {\n",
       "        vertical-align: middle;\n",
       "    }\n",
       "\n",
       "    .dataframe tbody tr th {\n",
       "        vertical-align: top;\n",
       "    }\n",
       "\n",
       "    .dataframe thead th {\n",
       "        text-align: right;\n",
       "    }\n",
       "</style>\n",
       "<table border=\"1\" class=\"dataframe\">\n",
       "  <thead>\n",
       "    <tr style=\"text-align: right;\">\n",
       "      <th></th>\n",
       "      <th>Marque</th>\n",
       "      <th>Année</th>\n",
       "      <th>Code Postal</th>\n",
       "      <th>Carburant</th>\n",
       "      <th>Emission Co2</th>\n",
       "      <th>Transmission</th>\n",
       "      <th>nbPortes</th>\n",
       "      <th>nbPlace</th>\n",
       "      <th>Kilométrage</th>\n",
       "      <th>Prix</th>\n",
       "    </tr>\n",
       "  </thead>\n",
       "  <tbody>\n",
       "    <tr>\n",
       "      <th>0</th>\n",
       "      <td>0.0</td>\n",
       "      <td>2017</td>\n",
       "      <td>31</td>\n",
       "      <td>1.0</td>\n",
       "      <td>0.0</td>\n",
       "      <td>0.0</td>\n",
       "      <td>5</td>\n",
       "      <td>5</td>\n",
       "      <td>119000</td>\n",
       "      <td>13900</td>\n",
       "    </tr>\n",
       "    <tr>\n",
       "      <th>1</th>\n",
       "      <td>0.0</td>\n",
       "      <td>2011</td>\n",
       "      <td>55</td>\n",
       "      <td>1.0</td>\n",
       "      <td>0.0</td>\n",
       "      <td>0.0</td>\n",
       "      <td>5</td>\n",
       "      <td>5</td>\n",
       "      <td>72330</td>\n",
       "      <td>13490</td>\n",
       "    </tr>\n",
       "    <tr>\n",
       "      <th>2</th>\n",
       "      <td>0.0</td>\n",
       "      <td>2016</td>\n",
       "      <td>24</td>\n",
       "      <td>1.0</td>\n",
       "      <td>0.0</td>\n",
       "      <td>0.0</td>\n",
       "      <td>5</td>\n",
       "      <td>5</td>\n",
       "      <td>114100</td>\n",
       "      <td>17990</td>\n",
       "    </tr>\n",
       "    <tr>\n",
       "      <th>3</th>\n",
       "      <td>0.0</td>\n",
       "      <td>2016</td>\n",
       "      <td>66</td>\n",
       "      <td>1.0</td>\n",
       "      <td>0.0</td>\n",
       "      <td>0.0</td>\n",
       "      <td>5</td>\n",
       "      <td>5</td>\n",
       "      <td>121019</td>\n",
       "      <td>10990</td>\n",
       "    </tr>\n",
       "    <tr>\n",
       "      <th>4</th>\n",
       "      <td>0.0</td>\n",
       "      <td>2018</td>\n",
       "      <td>69</td>\n",
       "      <td>1.0</td>\n",
       "      <td>0.0</td>\n",
       "      <td>0.0</td>\n",
       "      <td>5</td>\n",
       "      <td>5</td>\n",
       "      <td>88653</td>\n",
       "      <td>21300</td>\n",
       "    </tr>\n",
       "  </tbody>\n",
       "</table>\n",
       "</div>"
      ],
      "text/plain": [
       "   Marque  Année  Code Postal  Carburant  Emission Co2  Transmission  \\\n",
       "0     0.0   2017           31        1.0           0.0           0.0   \n",
       "1     0.0   2011           55        1.0           0.0           0.0   \n",
       "2     0.0   2016           24        1.0           0.0           0.0   \n",
       "3     0.0   2016           66        1.0           0.0           0.0   \n",
       "4     0.0   2018           69        1.0           0.0           0.0   \n",
       "\n",
       "   nbPortes  nbPlace  Kilométrage   Prix  \n",
       "0         5        5       119000  13900  \n",
       "1         5        5        72330  13490  \n",
       "2         5        5       114100  17990  \n",
       "3         5        5       121019  10990  \n",
       "4         5        5        88653  21300  "
      ]
     },
     "execution_count": 29,
     "metadata": {},
     "output_type": "execute_result"
    }
   ],
   "source": [
    "df.head()"
   ]
  },
  {
   "cell_type": "code",
   "execution_count": 30,
   "metadata": {},
   "outputs": [
    {
     "name": "stdout",
     "output_type": "stream",
     "text": [
      "(16143, 9) (6919, 9) (16143,) (6919,)\n"
     ]
    }
   ],
   "source": [
    "# split data\n",
    "X = df.drop(columns=['Prix'])\n",
    "y = df['Prix']\n",
    "X_train, X_test, y_train, y_test = train_test_split(X, y, test_size=0.3, random_state=42)\n",
    "print(X_train.shape, X_test.shape, y_train.shape, y_test.shape)\n"
   ]
  },
  {
   "cell_type": "code",
   "execution_count": 31,
   "metadata": {},
   "outputs": [],
   "source": [
    "# standardisation des données\n",
    "scaler = StandardScaler()\n",
    "X_train = scaler.fit_transform(X_train)\n",
    "X_test = scaler.transform(X_test)\n"
   ]
  },
  {
   "cell_type": "code",
   "execution_count": 32,
   "metadata": {},
   "outputs": [],
   "source": [
    "# SVM\n",
    "from sklearn.svm import SVC \n",
    "\n",
    "model = SVC(kernel='rbf', C=1, gamma=0.1)\n",
    "model.fit(X_train, y_train)\n",
    "y_pred = model.predict(X_test) \n"
   ]
  },
  {
   "cell_type": "code",
   "execution_count": 33,
   "metadata": {},
   "outputs": [
    {
     "name": "stdout",
     "output_type": "stream",
     "text": [
      "Accuracy: 0.0047694753577106515\n",
      "Confusion matrix: [[0 0 0 ... 0 0 0]\n",
      " [0 0 0 ... 0 0 0]\n",
      " [0 0 0 ... 0 0 0]\n",
      " ...\n",
      " [0 0 0 ... 0 0 0]\n",
      " [0 0 0 ... 0 0 0]\n",
      " [0 0 0 ... 0 0 0]]\n"
     ]
    }
   ],
   "source": [
    "# affichage des résultats\n",
    "print('Accuracy:', accuracy_score(y_test, y_pred))\n",
    "print('Confusion matrix:', confusion_matrix(y_test, y_pred))\n"
   ]
  },
  {
   "cell_type": "code",
   "execution_count": 34,
   "metadata": {},
   "outputs": [
    {
     "name": "stderr",
     "output_type": "stream",
     "text": [
      "C:\\Users\\lajaa\\AppData\\Local\\Programs\\Python\\Python39\\lib\\site-packages\\sklearn\\model_selection\\_split.py:676: UserWarning: The least populated class in y has only 1 members, which is less than n_splits=5.\n",
      "  warnings.warn(\n"
     ]
    }
   ],
   "source": [
    "# tester les différents paramètres\n",
    "from sklearn.model_selection import GridSearchCV\n",
    "\n",
    "search = GridSearchCV(model,\n",
    "                        param_grid={'C': [0.1, 1, 10, 100],\n",
    "                                    'gamma': [0.1, 0.01, 0.001, 0.0001]},\n",
    "                        scoring='accuracy',\n",
    "                        cv=5)\n",
    "search.fit(X_train, y_train)\n",
    "print('Best parameters:', search.best_params_)\n",
    "print('Best score:', search.best_score_)"
   ]
  }
 ],
 "metadata": {
  "interpreter": {
   "hash": "b7d63767994f37dfa86e26829ddb127347db566fbcb91120cb86aef8ecfa4d78"
  },
  "kernelspec": {
   "display_name": "Python 3.9.5 64-bit",
   "language": "python",
   "name": "python3"
  },
  "language_info": {
   "codemirror_mode": {
    "name": "ipython",
    "version": 3
   },
   "file_extension": ".py",
   "mimetype": "text/x-python",
   "name": "python",
   "nbconvert_exporter": "python",
   "pygments_lexer": "ipython3",
   "version": "3.9.5"
  },
  "orig_nbformat": 4
 },
 "nbformat": 4,
 "nbformat_minor": 2
}
